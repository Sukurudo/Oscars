{
 "cells": [
  {
   "cell_type": "code",
   "execution_count": 1,
   "metadata": {},
   "outputs": [],
   "source": [
    "#Add Dependencies\n",
    "import pandas as pd\n",
    "import numpy as np\n",
    "import psycopg2 as pg\n",
    "from sklearn.preprocessing import OneHotEncoder\n",
    "from sklearn.ensemble import RandomForestClassifier\n",
    "from sklearn.preprocessing import StandardScaler\n",
    "from sklearn.model_selection import train_test_split\n",
    "from sklearn.metrics import confusion_matrix, accuracy_score, classification_report\n",
    "\n",
    "from sklearn.feature_selection import SelectKBest\n",
    "from sklearn.feature_selection import chi2\n",
    "\n",
    "from sklearn.ensemble import ExtraTreesClassifier\n",
    "import matplotlib.pyplot as plt\n",
    "import seaborn as sns"
   ]
  },
  {
   "cell_type": "markdown",
   "metadata": {},
   "source": [
    "### Connection to the Postgres database and Retrive data from the tables"
   ]
  },
  {
   "cell_type": "code",
   "execution_count": 2,
   "metadata": {},
   "outputs": [],
   "source": [
    "#Read Data from the PostgressSql\n",
    "conn = pg.connect(user = \"postgres\",\n",
    "                                  password = \"akshaj10\",\n",
    "                                  host = \"127.0.0.1\",\n",
    "                                  port = \"5432\",\n",
    "                                  database = \"movie_data\")\n",
    "sql1 = \"SELECT * FROM oscar_metadata;\"\n",
    "combined_df = pd.read_sql_query(sql1, conn)\n",
    "conn = None"
   ]
  },
  {
   "cell_type": "code",
   "execution_count": 3,
   "metadata": {},
   "outputs": [
    {
     "data": {
      "text/plain": [
       "(51147, 17)"
      ]
     },
     "execution_count": 3,
     "metadata": {},
     "output_type": "execute_result"
    }
   ],
   "source": [
    "#Load Data into Pandas Data frame and Display the dataframe.\n",
    "combined_df.shape"
   ]
  },
  {
   "cell_type": "code",
   "execution_count": 4,
   "metadata": {},
   "outputs": [
    {
     "data": {
      "text/plain": [
       "(22647, 17)"
      ]
     },
     "execution_count": 4,
     "metadata": {},
     "output_type": "execute_result"
    }
   ],
   "source": [
    "# Filter all rows for US as the country\n",
    "movie_us_df = combined_df[combined_df['country'] == 'United States of America'] \n",
    "movie_us_df.shape"
   ]
  },
  {
   "cell_type": "code",
   "execution_count": 5,
   "metadata": {},
   "outputs": [
    {
     "name": "stdout",
     "output_type": "stream",
     "text": [
      "Columnimdb_id has 3 null values\n",
      "Columnbudget has 0 null values\n",
      "Columnoriginal_title has 0 null values\n",
      "Columnpopularity has 0 null values\n",
      "Columnrevenue has 0 null values\n",
      "Columnruntime has 5 null values\n",
      "Columntitle has 0 null values\n",
      "Columnvote_average has 0 null values\n",
      "Columnvote_count has 0 null values\n",
      "Columnproduction has 0 null values\n",
      "Columncountry has 0 null values\n",
      "Columnnew_genre has 0 null values\n",
      "ColumnRelease_year has 2 null values\n",
      "Columnindex has 15911 null values\n",
      "Columncategory has 15911 null values\n",
      "Columnfilm has 15911 null values\n",
      "Columnwinner has 15911 null values\n"
     ]
    }
   ],
   "source": [
    "# Find null values\n",
    "for column in movie_us_df.columns:\n",
    "    print(f\"Column{column} has {movie_us_df[column].isnull().sum()} null values\")"
   ]
  },
  {
   "cell_type": "code",
   "execution_count": 6,
   "metadata": {},
   "outputs": [
    {
     "data": {
      "text/html": [
       "<div>\n",
       "<style scoped>\n",
       "    .dataframe tbody tr th:only-of-type {\n",
       "        vertical-align: middle;\n",
       "    }\n",
       "\n",
       "    .dataframe tbody tr th {\n",
       "        vertical-align: top;\n",
       "    }\n",
       "\n",
       "    .dataframe thead th {\n",
       "        text-align: right;\n",
       "    }\n",
       "</style>\n",
       "<table border=\"1\" class=\"dataframe\">\n",
       "  <thead>\n",
       "    <tr style=\"text-align: right;\">\n",
       "      <th></th>\n",
       "      <th>budget</th>\n",
       "      <th>original_title</th>\n",
       "      <th>popularity</th>\n",
       "      <th>revenue</th>\n",
       "      <th>runtime</th>\n",
       "      <th>title</th>\n",
       "      <th>vote_average</th>\n",
       "      <th>vote_count</th>\n",
       "      <th>production</th>\n",
       "      <th>country</th>\n",
       "      <th>new_genre</th>\n",
       "      <th>Release_year</th>\n",
       "      <th>index</th>\n",
       "      <th>category</th>\n",
       "      <th>film</th>\n",
       "      <th>winner</th>\n",
       "    </tr>\n",
       "    <tr>\n",
       "      <th>imdb_id</th>\n",
       "      <th></th>\n",
       "      <th></th>\n",
       "      <th></th>\n",
       "      <th></th>\n",
       "      <th></th>\n",
       "      <th></th>\n",
       "      <th></th>\n",
       "      <th></th>\n",
       "      <th></th>\n",
       "      <th></th>\n",
       "      <th></th>\n",
       "      <th></th>\n",
       "      <th></th>\n",
       "      <th></th>\n",
       "      <th></th>\n",
       "      <th></th>\n",
       "    </tr>\n",
       "  </thead>\n",
       "  <tbody>\n",
       "    <tr>\n",
       "      <th>tt0114709</th>\n",
       "      <td>30000000</td>\n",
       "      <td>Toy Story</td>\n",
       "      <td>30000000.0</td>\n",
       "      <td>373554033.0</td>\n",
       "      <td>81.0</td>\n",
       "      <td>Toy Story</td>\n",
       "      <td>7.7</td>\n",
       "      <td>5415.0</td>\n",
       "      <td>Pixar Animation Studios</td>\n",
       "      <td>United States of America</td>\n",
       "      <td>Animation</td>\n",
       "      <td>1995</td>\n",
       "      <td>7548.0</td>\n",
       "      <td>WRITING (Screenplay Written Directly for the S...</td>\n",
       "      <td>Toy Story</td>\n",
       "      <td>False</td>\n",
       "    </tr>\n",
       "    <tr>\n",
       "      <th>tt0114709</th>\n",
       "      <td>30000000</td>\n",
       "      <td>Toy Story</td>\n",
       "      <td>30000000.0</td>\n",
       "      <td>373554033.0</td>\n",
       "      <td>81.0</td>\n",
       "      <td>Toy Story</td>\n",
       "      <td>7.7</td>\n",
       "      <td>5415.0</td>\n",
       "      <td>Pixar Animation Studios</td>\n",
       "      <td>United States of America</td>\n",
       "      <td>Animation</td>\n",
       "      <td>1995</td>\n",
       "      <td>7514.0</td>\n",
       "      <td>MUSIC (Original Song)</td>\n",
       "      <td>Toy Story</td>\n",
       "      <td>False</td>\n",
       "    </tr>\n",
       "    <tr>\n",
       "      <th>tt0114709</th>\n",
       "      <td>30000000</td>\n",
       "      <td>Toy Story</td>\n",
       "      <td>30000000.0</td>\n",
       "      <td>373554033.0</td>\n",
       "      <td>81.0</td>\n",
       "      <td>Toy Story</td>\n",
       "      <td>7.7</td>\n",
       "      <td>5415.0</td>\n",
       "      <td>Pixar Animation Studios</td>\n",
       "      <td>United States of America</td>\n",
       "      <td>Animation</td>\n",
       "      <td>1995</td>\n",
       "      <td>7508.0</td>\n",
       "      <td>MUSIC (Original Musical or Comedy Score)</td>\n",
       "      <td>Toy Story</td>\n",
       "      <td>False</td>\n",
       "    </tr>\n",
       "    <tr>\n",
       "      <th>tt0113497</th>\n",
       "      <td>65000000</td>\n",
       "      <td>Jumanji</td>\n",
       "      <td>65000000.0</td>\n",
       "      <td>262797249.0</td>\n",
       "      <td>104.0</td>\n",
       "      <td>Jumanji</td>\n",
       "      <td>6.9</td>\n",
       "      <td>2413.0</td>\n",
       "      <td>TriStar Pictures</td>\n",
       "      <td>United States of America</td>\n",
       "      <td>Adventure</td>\n",
       "      <td>1995</td>\n",
       "      <td>NaN</td>\n",
       "      <td>None</td>\n",
       "      <td>None</td>\n",
       "      <td>None</td>\n",
       "    </tr>\n",
       "    <tr>\n",
       "      <th>tt0113228</th>\n",
       "      <td>0</td>\n",
       "      <td>Grumpier Old Men</td>\n",
       "      <td>0.0</td>\n",
       "      <td>0.0</td>\n",
       "      <td>101.0</td>\n",
       "      <td>Grumpier Old Men</td>\n",
       "      <td>6.5</td>\n",
       "      <td>92.0</td>\n",
       "      <td>Warner Bros.</td>\n",
       "      <td>United States of America</td>\n",
       "      <td>Romance</td>\n",
       "      <td>1995</td>\n",
       "      <td>NaN</td>\n",
       "      <td>None</td>\n",
       "      <td>None</td>\n",
       "      <td>None</td>\n",
       "    </tr>\n",
       "  </tbody>\n",
       "</table>\n",
       "</div>"
      ],
      "text/plain": [
       "             budget    original_title  popularity      revenue  runtime  \\\n",
       "imdb_id                                                                   \n",
       "tt0114709  30000000         Toy Story  30000000.0  373554033.0     81.0   \n",
       "tt0114709  30000000         Toy Story  30000000.0  373554033.0     81.0   \n",
       "tt0114709  30000000         Toy Story  30000000.0  373554033.0     81.0   \n",
       "tt0113497  65000000           Jumanji  65000000.0  262797249.0    104.0   \n",
       "tt0113228         0  Grumpier Old Men         0.0          0.0    101.0   \n",
       "\n",
       "                      title  vote_average  vote_count  \\\n",
       "imdb_id                                                 \n",
       "tt0114709         Toy Story           7.7      5415.0   \n",
       "tt0114709         Toy Story           7.7      5415.0   \n",
       "tt0114709         Toy Story           7.7      5415.0   \n",
       "tt0113497           Jumanji           6.9      2413.0   \n",
       "tt0113228  Grumpier Old Men           6.5        92.0   \n",
       "\n",
       "                        production                   country  new_genre  \\\n",
       "imdb_id                                                                   \n",
       "tt0114709  Pixar Animation Studios  United States of America  Animation   \n",
       "tt0114709  Pixar Animation Studios  United States of America  Animation   \n",
       "tt0114709  Pixar Animation Studios  United States of America  Animation   \n",
       "tt0113497         TriStar Pictures  United States of America  Adventure   \n",
       "tt0113228             Warner Bros.  United States of America    Romance   \n",
       "\n",
       "          Release_year   index  \\\n",
       "imdb_id                          \n",
       "tt0114709         1995  7548.0   \n",
       "tt0114709         1995  7514.0   \n",
       "tt0114709         1995  7508.0   \n",
       "tt0113497         1995     NaN   \n",
       "tt0113228         1995     NaN   \n",
       "\n",
       "                                                    category       film winner  \n",
       "imdb_id                                                                         \n",
       "tt0114709  WRITING (Screenplay Written Directly for the S...  Toy Story  False  \n",
       "tt0114709                              MUSIC (Original Song)  Toy Story  False  \n",
       "tt0114709           MUSIC (Original Musical or Comedy Score)  Toy Story  False  \n",
       "tt0113497                                               None       None   None  \n",
       "tt0113228                                               None       None   None  "
      ]
     },
     "execution_count": 6,
     "metadata": {},
     "output_type": "execute_result"
    }
   ],
   "source": [
    "#Set the index to IMDB_ID\n",
    "movie_us_df = movie_us_df.set_index(\"imdb_id\")\n",
    "movie_us_df.head()"
   ]
  },
  {
   "cell_type": "code",
   "execution_count": 7,
   "metadata": {},
   "outputs": [],
   "source": [
    "columns =['budget','original_title','popularity','revenue','runtime','vote_average','vote_count','production','country','new_genre','Release_year', 'winner']\n",
    "\n",
    "target = ['winner']"
   ]
  },
  {
   "cell_type": "code",
   "execution_count": 8,
   "metadata": {},
   "outputs": [
    {
     "data": {
      "text/plain": [
       "(22647, 12)"
      ]
     },
     "execution_count": 8,
     "metadata": {},
     "output_type": "execute_result"
    }
   ],
   "source": [
    "movie_us_df = movie_us_df.loc[:, columns].copy()\n",
    "movie_us_df.shape"
   ]
  },
  {
   "cell_type": "code",
   "execution_count": 9,
   "metadata": {},
   "outputs": [
    {
     "data": {
      "text/plain": [
       "(22647, 12)"
      ]
     },
     "execution_count": 9,
     "metadata": {},
     "output_type": "execute_result"
    }
   ],
   "source": [
    "#Convert winner column into numbers \n",
    "movie_us_df[\"winner\"] = movie_us_df[\"winner\"].replace({True: 1, False: 0})\n",
    "movie_us_df.shape"
   ]
  },
  {
   "cell_type": "code",
   "execution_count": 10,
   "metadata": {},
   "outputs": [
    {
     "data": {
      "text/plain": [
       "(22647, 12)"
      ]
     },
     "execution_count": 10,
     "metadata": {},
     "output_type": "execute_result"
    }
   ],
   "source": [
    "#Fill null values in winner column to zero \n",
    "movie_us_df[\"winner\"] = movie_us_df[\"winner\"].fillna(value=0)\n",
    "movie_us_df.shape"
   ]
  },
  {
   "cell_type": "code",
   "execution_count": 11,
   "metadata": {},
   "outputs": [],
   "source": [
    "# convert the 'Date' column to datetime format \n",
    "movie_us_df['Release_year'] = movie_us_df['Release_year'].astype('datetime64[ns]')"
   ]
  },
  {
   "cell_type": "code",
   "execution_count": 12,
   "metadata": {},
   "outputs": [
    {
     "data": {
      "text/plain": [
       "(22647, 12)"
      ]
     },
     "execution_count": 12,
     "metadata": {},
     "output_type": "execute_result"
    }
   ],
   "source": [
    "# Extract year from date \n",
    "movie_us_df['Release_year'] = pd.DatetimeIndex(movie_us_df['Release_year']).year\n",
    "movie_us_df.shape"
   ]
  },
  {
   "cell_type": "code",
   "execution_count": 17,
   "metadata": {},
   "outputs": [
    {
     "data": {
      "text/plain": [
       "(11828, 12)"
      ]
     },
     "execution_count": 17,
     "metadata": {},
     "output_type": "execute_result"
    }
   ],
   "source": [
    "# Filter all rows for movies from 1990\n",
    "movie_us_df = movie_us_df[movie_us_df['Release_year'] >= 1989] \n",
    "movie_us_df.shape"
   ]
  },
  {
   "cell_type": "code",
   "execution_count": 18,
   "metadata": {},
   "outputs": [
    {
     "name": "stdout",
     "output_type": "stream",
     "text": [
      "<class 'pandas.core.frame.DataFrame'>\n",
      "Index: 11828 entries, tt0114709 to tt0303758\n",
      "Data columns (total 12 columns):\n",
      " #   Column          Non-Null Count  Dtype  \n",
      "---  ------          --------------  -----  \n",
      " 0   budget          11828 non-null  int64  \n",
      " 1   original_title  11828 non-null  object \n",
      " 2   popularity      11828 non-null  float64\n",
      " 3   revenue         11828 non-null  float64\n",
      " 4   runtime         11824 non-null  float64\n",
      " 5   vote_average    11828 non-null  float64\n",
      " 6   vote_count      11828 non-null  float64\n",
      " 7   production      11828 non-null  object \n",
      " 8   country         11828 non-null  object \n",
      " 9   new_genre       11828 non-null  object \n",
      " 10  Release_year    11828 non-null  float64\n",
      " 11  winner          11828 non-null  float64\n",
      "dtypes: float64(7), int64(1), object(4)\n",
      "memory usage: 1.2+ MB\n"
     ]
    }
   ],
   "source": [
    "movie_us_df.info()"
   ]
  },
  {
   "cell_type": "code",
   "execution_count": 16,
   "metadata": {},
   "outputs": [
    {
     "data": {
      "text/html": [
       "<div>\n",
       "<style scoped>\n",
       "    .dataframe tbody tr th:only-of-type {\n",
       "        vertical-align: middle;\n",
       "    }\n",
       "\n",
       "    .dataframe tbody tr th {\n",
       "        vertical-align: top;\n",
       "    }\n",
       "\n",
       "    .dataframe thead th {\n",
       "        text-align: right;\n",
       "    }\n",
       "</style>\n",
       "<table border=\"1\" class=\"dataframe\">\n",
       "  <thead>\n",
       "    <tr style=\"text-align: right;\">\n",
       "      <th></th>\n",
       "      <th>budget</th>\n",
       "      <th>original_title</th>\n",
       "      <th>popularity</th>\n",
       "      <th>revenue</th>\n",
       "      <th>runtime</th>\n",
       "      <th>vote_average</th>\n",
       "      <th>vote_count</th>\n",
       "      <th>production</th>\n",
       "      <th>country</th>\n",
       "      <th>new_genre</th>\n",
       "      <th>Release_year</th>\n",
       "      <th>winner</th>\n",
       "    </tr>\n",
       "    <tr>\n",
       "      <th>imdb_id</th>\n",
       "      <th></th>\n",
       "      <th></th>\n",
       "      <th></th>\n",
       "      <th></th>\n",
       "      <th></th>\n",
       "      <th></th>\n",
       "      <th></th>\n",
       "      <th></th>\n",
       "      <th></th>\n",
       "      <th></th>\n",
       "      <th></th>\n",
       "      <th></th>\n",
       "    </tr>\n",
       "  </thead>\n",
       "  <tbody>\n",
       "    <tr>\n",
       "      <th>tt0114709</th>\n",
       "      <td>30000000</td>\n",
       "      <td>Toy Story</td>\n",
       "      <td>30000000.0</td>\n",
       "      <td>373554033.0</td>\n",
       "      <td>81.0</td>\n",
       "      <td>7.7</td>\n",
       "      <td>5415.0</td>\n",
       "      <td>Pixar Animation Studios</td>\n",
       "      <td>United States of America</td>\n",
       "      <td>Animation</td>\n",
       "      <td>1995.0</td>\n",
       "      <td>0.0</td>\n",
       "    </tr>\n",
       "    <tr>\n",
       "      <th>tt0114709</th>\n",
       "      <td>30000000</td>\n",
       "      <td>Toy Story</td>\n",
       "      <td>30000000.0</td>\n",
       "      <td>373554033.0</td>\n",
       "      <td>81.0</td>\n",
       "      <td>7.7</td>\n",
       "      <td>5415.0</td>\n",
       "      <td>Pixar Animation Studios</td>\n",
       "      <td>United States of America</td>\n",
       "      <td>Animation</td>\n",
       "      <td>1995.0</td>\n",
       "      <td>0.0</td>\n",
       "    </tr>\n",
       "    <tr>\n",
       "      <th>tt0114709</th>\n",
       "      <td>30000000</td>\n",
       "      <td>Toy Story</td>\n",
       "      <td>30000000.0</td>\n",
       "      <td>373554033.0</td>\n",
       "      <td>81.0</td>\n",
       "      <td>7.7</td>\n",
       "      <td>5415.0</td>\n",
       "      <td>Pixar Animation Studios</td>\n",
       "      <td>United States of America</td>\n",
       "      <td>Animation</td>\n",
       "      <td>1995.0</td>\n",
       "      <td>0.0</td>\n",
       "    </tr>\n",
       "    <tr>\n",
       "      <th>tt0113497</th>\n",
       "      <td>65000000</td>\n",
       "      <td>Jumanji</td>\n",
       "      <td>65000000.0</td>\n",
       "      <td>262797249.0</td>\n",
       "      <td>104.0</td>\n",
       "      <td>6.9</td>\n",
       "      <td>2413.0</td>\n",
       "      <td>TriStar Pictures</td>\n",
       "      <td>United States of America</td>\n",
       "      <td>Adventure</td>\n",
       "      <td>1995.0</td>\n",
       "      <td>0.0</td>\n",
       "    </tr>\n",
       "    <tr>\n",
       "      <th>tt0113228</th>\n",
       "      <td>0</td>\n",
       "      <td>Grumpier Old Men</td>\n",
       "      <td>0.0</td>\n",
       "      <td>0.0</td>\n",
       "      <td>101.0</td>\n",
       "      <td>6.5</td>\n",
       "      <td>92.0</td>\n",
       "      <td>Warner Bros.</td>\n",
       "      <td>United States of America</td>\n",
       "      <td>Romance</td>\n",
       "      <td>1995.0</td>\n",
       "      <td>0.0</td>\n",
       "    </tr>\n",
       "  </tbody>\n",
       "</table>\n",
       "</div>"
      ],
      "text/plain": [
       "             budget    original_title  popularity      revenue  runtime  \\\n",
       "imdb_id                                                                   \n",
       "tt0114709  30000000         Toy Story  30000000.0  373554033.0     81.0   \n",
       "tt0114709  30000000         Toy Story  30000000.0  373554033.0     81.0   \n",
       "tt0114709  30000000         Toy Story  30000000.0  373554033.0     81.0   \n",
       "tt0113497  65000000           Jumanji  65000000.0  262797249.0    104.0   \n",
       "tt0113228         0  Grumpier Old Men         0.0          0.0    101.0   \n",
       "\n",
       "           vote_average  vote_count               production  \\\n",
       "imdb_id                                                        \n",
       "tt0114709           7.7      5415.0  Pixar Animation Studios   \n",
       "tt0114709           7.7      5415.0  Pixar Animation Studios   \n",
       "tt0114709           7.7      5415.0  Pixar Animation Studios   \n",
       "tt0113497           6.9      2413.0         TriStar Pictures   \n",
       "tt0113228           6.5        92.0             Warner Bros.   \n",
       "\n",
       "                            country  new_genre  Release_year  winner  \n",
       "imdb_id                                                               \n",
       "tt0114709  United States of America  Animation        1995.0     0.0  \n",
       "tt0114709  United States of America  Animation        1995.0     0.0  \n",
       "tt0114709  United States of America  Animation        1995.0     0.0  \n",
       "tt0113497  United States of America  Adventure        1995.0     0.0  \n",
       "tt0113228  United States of America    Romance        1995.0     0.0  "
      ]
     },
     "execution_count": 16,
     "metadata": {},
     "output_type": "execute_result"
    }
   ],
   "source": [
    "movie_us_df.head()"
   ]
  },
  {
   "cell_type": "code",
   "execution_count": 19,
   "metadata": {},
   "outputs": [
    {
     "data": {
      "text/html": [
       "<div>\n",
       "<style scoped>\n",
       "    .dataframe tbody tr th:only-of-type {\n",
       "        vertical-align: middle;\n",
       "    }\n",
       "\n",
       "    .dataframe tbody tr th {\n",
       "        vertical-align: top;\n",
       "    }\n",
       "\n",
       "    .dataframe thead th {\n",
       "        text-align: right;\n",
       "    }\n",
       "</style>\n",
       "<table border=\"1\" class=\"dataframe\">\n",
       "  <thead>\n",
       "    <tr style=\"text-align: right;\">\n",
       "      <th></th>\n",
       "      <th>original_title</th>\n",
       "    </tr>\n",
       "    <tr>\n",
       "      <th>imdb_id</th>\n",
       "      <th></th>\n",
       "    </tr>\n",
       "  </thead>\n",
       "  <tbody>\n",
       "    <tr>\n",
       "      <th>tt0114709</th>\n",
       "      <td>Toy Story</td>\n",
       "    </tr>\n",
       "    <tr>\n",
       "      <th>tt0114709</th>\n",
       "      <td>Toy Story</td>\n",
       "    </tr>\n",
       "    <tr>\n",
       "      <th>tt0114709</th>\n",
       "      <td>Toy Story</td>\n",
       "    </tr>\n",
       "    <tr>\n",
       "      <th>tt0113497</th>\n",
       "      <td>Jumanji</td>\n",
       "    </tr>\n",
       "    <tr>\n",
       "      <th>tt0113228</th>\n",
       "      <td>Grumpier Old Men</td>\n",
       "    </tr>\n",
       "  </tbody>\n",
       "</table>\n",
       "</div>"
      ],
      "text/plain": [
       "             original_title\n",
       "imdb_id                    \n",
       "tt0114709         Toy Story\n",
       "tt0114709         Toy Story\n",
       "tt0114709         Toy Story\n",
       "tt0113497           Jumanji\n",
       "tt0113228  Grumpier Old Men"
      ]
     },
     "execution_count": 19,
     "metadata": {},
     "output_type": "execute_result"
    }
   ],
   "source": [
    "# Create a title Dataframe.\n",
    "title_df=pd.DataFrame(data=movie_us_df['original_title'],index=movie_us_df.index,copy=True)\n",
    "title_df.head()"
   ]
  },
  {
   "cell_type": "code",
   "execution_count": 20,
   "metadata": {},
   "outputs": [
    {
     "data": {
      "text/html": [
       "<div>\n",
       "<style scoped>\n",
       "    .dataframe tbody tr th:only-of-type {\n",
       "        vertical-align: middle;\n",
       "    }\n",
       "\n",
       "    .dataframe tbody tr th {\n",
       "        vertical-align: top;\n",
       "    }\n",
       "\n",
       "    .dataframe thead th {\n",
       "        text-align: right;\n",
       "    }\n",
       "</style>\n",
       "<table border=\"1\" class=\"dataframe\">\n",
       "  <thead>\n",
       "    <tr style=\"text-align: right;\">\n",
       "      <th></th>\n",
       "      <th>budget</th>\n",
       "      <th>popularity</th>\n",
       "      <th>revenue</th>\n",
       "      <th>runtime</th>\n",
       "      <th>vote_average</th>\n",
       "      <th>vote_count</th>\n",
       "      <th>production</th>\n",
       "      <th>country</th>\n",
       "      <th>new_genre</th>\n",
       "      <th>Release_year</th>\n",
       "      <th>winner</th>\n",
       "    </tr>\n",
       "    <tr>\n",
       "      <th>imdb_id</th>\n",
       "      <th></th>\n",
       "      <th></th>\n",
       "      <th></th>\n",
       "      <th></th>\n",
       "      <th></th>\n",
       "      <th></th>\n",
       "      <th></th>\n",
       "      <th></th>\n",
       "      <th></th>\n",
       "      <th></th>\n",
       "      <th></th>\n",
       "    </tr>\n",
       "  </thead>\n",
       "  <tbody>\n",
       "    <tr>\n",
       "      <th>tt0114709</th>\n",
       "      <td>30000000</td>\n",
       "      <td>30000000.0</td>\n",
       "      <td>373554033.0</td>\n",
       "      <td>81.0</td>\n",
       "      <td>7.7</td>\n",
       "      <td>5415.0</td>\n",
       "      <td>Pixar Animation Studios</td>\n",
       "      <td>United States of America</td>\n",
       "      <td>Animation</td>\n",
       "      <td>1995.0</td>\n",
       "      <td>0.0</td>\n",
       "    </tr>\n",
       "    <tr>\n",
       "      <th>tt0114709</th>\n",
       "      <td>30000000</td>\n",
       "      <td>30000000.0</td>\n",
       "      <td>373554033.0</td>\n",
       "      <td>81.0</td>\n",
       "      <td>7.7</td>\n",
       "      <td>5415.0</td>\n",
       "      <td>Pixar Animation Studios</td>\n",
       "      <td>United States of America</td>\n",
       "      <td>Animation</td>\n",
       "      <td>1995.0</td>\n",
       "      <td>0.0</td>\n",
       "    </tr>\n",
       "    <tr>\n",
       "      <th>tt0114709</th>\n",
       "      <td>30000000</td>\n",
       "      <td>30000000.0</td>\n",
       "      <td>373554033.0</td>\n",
       "      <td>81.0</td>\n",
       "      <td>7.7</td>\n",
       "      <td>5415.0</td>\n",
       "      <td>Pixar Animation Studios</td>\n",
       "      <td>United States of America</td>\n",
       "      <td>Animation</td>\n",
       "      <td>1995.0</td>\n",
       "      <td>0.0</td>\n",
       "    </tr>\n",
       "    <tr>\n",
       "      <th>tt0113497</th>\n",
       "      <td>65000000</td>\n",
       "      <td>65000000.0</td>\n",
       "      <td>262797249.0</td>\n",
       "      <td>104.0</td>\n",
       "      <td>6.9</td>\n",
       "      <td>2413.0</td>\n",
       "      <td>TriStar Pictures</td>\n",
       "      <td>United States of America</td>\n",
       "      <td>Adventure</td>\n",
       "      <td>1995.0</td>\n",
       "      <td>0.0</td>\n",
       "    </tr>\n",
       "    <tr>\n",
       "      <th>tt0113228</th>\n",
       "      <td>0</td>\n",
       "      <td>0.0</td>\n",
       "      <td>0.0</td>\n",
       "      <td>101.0</td>\n",
       "      <td>6.5</td>\n",
       "      <td>92.0</td>\n",
       "      <td>Warner Bros.</td>\n",
       "      <td>United States of America</td>\n",
       "      <td>Romance</td>\n",
       "      <td>1995.0</td>\n",
       "      <td>0.0</td>\n",
       "    </tr>\n",
       "  </tbody>\n",
       "</table>\n",
       "</div>"
      ],
      "text/plain": [
       "             budget  popularity      revenue  runtime  vote_average  \\\n",
       "imdb_id                                                               \n",
       "tt0114709  30000000  30000000.0  373554033.0     81.0           7.7   \n",
       "tt0114709  30000000  30000000.0  373554033.0     81.0           7.7   \n",
       "tt0114709  30000000  30000000.0  373554033.0     81.0           7.7   \n",
       "tt0113497  65000000  65000000.0  262797249.0    104.0           6.9   \n",
       "tt0113228         0         0.0          0.0    101.0           6.5   \n",
       "\n",
       "           vote_count               production                   country  \\\n",
       "imdb_id                                                                    \n",
       "tt0114709      5415.0  Pixar Animation Studios  United States of America   \n",
       "tt0114709      5415.0  Pixar Animation Studios  United States of America   \n",
       "tt0114709      5415.0  Pixar Animation Studios  United States of America   \n",
       "tt0113497      2413.0         TriStar Pictures  United States of America   \n",
       "tt0113228        92.0             Warner Bros.  United States of America   \n",
       "\n",
       "           new_genre  Release_year  winner  \n",
       "imdb_id                                     \n",
       "tt0114709  Animation        1995.0     0.0  \n",
       "tt0114709  Animation        1995.0     0.0  \n",
       "tt0114709  Animation        1995.0     0.0  \n",
       "tt0113497  Adventure        1995.0     0.0  \n",
       "tt0113228    Romance        1995.0     0.0  "
      ]
     },
     "execution_count": 20,
     "metadata": {},
     "output_type": "execute_result"
    }
   ],
   "source": [
    "# Remove the movie title from the dataframe\n",
    "movie_us_df = movie_us_df.drop('original_title',1)\n",
    "movie_us_df.head()"
   ]
  },
  {
   "cell_type": "code",
   "execution_count": 21,
   "metadata": {},
   "outputs": [
    {
     "data": {
      "text/plain": [
       "(11824, 11)"
      ]
     },
     "execution_count": 21,
     "metadata": {},
     "output_type": "execute_result"
    }
   ],
   "source": [
    "# Drop null rows\n",
    "movie_us_df = movie_us_df.dropna(axis = 0,how= 'any')\n",
    "movie_us_df.shape"
   ]
  },
  {
   "cell_type": "code",
   "execution_count": 22,
   "metadata": {},
   "outputs": [
    {
     "data": {
      "text/plain": [
       "production    3323\n",
       "country          1\n",
       "new_genre       20\n",
       "dtype: int64"
      ]
     },
     "execution_count": 22,
     "metadata": {},
     "output_type": "execute_result"
    }
   ],
   "source": [
    "# Generate our categorical variable list for movie dataset\n",
    "movie_cat = movie_us_df.dtypes[movie_us_df.dtypes == \"object\"].index.tolist()\n",
    "\n",
    "# Check the number of unique values in each column\n",
    "movie_us_df[movie_cat].nunique()"
   ]
  },
  {
   "cell_type": "markdown",
   "metadata": {},
   "source": [
    "### One Hot encoding production -Using top 10 values"
   ]
  },
  {
   "cell_type": "code",
   "execution_count": 23,
   "metadata": {},
   "outputs": [
    {
     "data": {
      "text/plain": [
       "Other                       1764\n",
       "Paramount Pictures           409\n",
       "Universal Pictures           318\n",
       "Columbia Pictures            283\n",
       "Walt Disney Pictures         247\n",
       "                            ... \n",
       "Bloody Disgusting              1\n",
       "Radar Pictures                 1\n",
       "Madcap Entertainment           1\n",
       "Incendiary Features            1\n",
       "Chicken And Egg Pictures       1\n",
       "Name: production, Length: 3323, dtype: int64"
      ]
     },
     "execution_count": 23,
     "metadata": {},
     "output_type": "execute_result"
    }
   ],
   "source": [
    "# Check the production unique value counts to see if binning is required\n",
    "production_counts= movie_us_df.production.value_counts()\n",
    "production_counts"
   ]
  },
  {
   "cell_type": "code",
   "execution_count": 24,
   "metadata": {},
   "outputs": [
    {
     "data": {
      "text/plain": [
       "Other                                     9542\n",
       "Paramount Pictures                         409\n",
       "Universal Pictures                         318\n",
       "Columbia Pictures                          283\n",
       "Walt Disney Pictures                       247\n",
       "Twentieth Century Fox Film Corporation     216\n",
       "New Line Cinema                            212\n",
       "Miramax Films                              207\n",
       "Warner Bros.                               109\n",
       "TriStar Pictures                           108\n",
       "DreamWorks SKG                              93\n",
       "Fox Searchlight Pictures                    80\n",
       "Name: production, dtype: int64"
      ]
     },
     "execution_count": 24,
     "metadata": {},
     "output_type": "execute_result"
    }
   ],
   "source": [
    "# Determine which values to replace for bucketing\n",
    "replace_production = list(production_counts[production_counts < 80].index)\n",
    "\n",
    "# Replace in DataFrame\n",
    "for production in replace_production:\n",
    "    movie_us_df.production = movie_us_df.production.replace(production,\"Other\")\n",
    "\n",
    "\n",
    "# Check to make sure binning was successful\n",
    "movie_us_df.production.value_counts()"
   ]
  },
  {
   "cell_type": "code",
   "execution_count": 25,
   "metadata": {},
   "outputs": [
    {
     "data": {
      "text/plain": [
       "(11824, 30)"
      ]
     },
     "execution_count": 25,
     "metadata": {},
     "output_type": "execute_result"
    }
   ],
   "source": [
    "# let's examine how many columns we will obtain after one hot encoding these variables\n",
    "encode_df=pd.get_dummies(movie_us_df[movie_cat], drop_first=True)\n",
    "encode_df.shape"
   ]
  },
  {
   "cell_type": "code",
   "execution_count": 26,
   "metadata": {},
   "outputs": [
    {
     "data": {
      "text/html": [
       "<div>\n",
       "<style scoped>\n",
       "    .dataframe tbody tr th:only-of-type {\n",
       "        vertical-align: middle;\n",
       "    }\n",
       "\n",
       "    .dataframe tbody tr th {\n",
       "        vertical-align: top;\n",
       "    }\n",
       "\n",
       "    .dataframe thead th {\n",
       "        text-align: right;\n",
       "    }\n",
       "</style>\n",
       "<table border=\"1\" class=\"dataframe\">\n",
       "  <thead>\n",
       "    <tr style=\"text-align: right;\">\n",
       "      <th></th>\n",
       "      <th>budget</th>\n",
       "      <th>popularity</th>\n",
       "      <th>revenue</th>\n",
       "      <th>runtime</th>\n",
       "      <th>vote_average</th>\n",
       "      <th>vote_count</th>\n",
       "      <th>Release_year</th>\n",
       "      <th>winner</th>\n",
       "      <th>production_DreamWorks SKG</th>\n",
       "      <th>production_Fox Searchlight Pictures</th>\n",
       "      <th>...</th>\n",
       "      <th>new_genre_History</th>\n",
       "      <th>new_genre_Horror</th>\n",
       "      <th>new_genre_Music</th>\n",
       "      <th>new_genre_Mystery</th>\n",
       "      <th>new_genre_Romance</th>\n",
       "      <th>new_genre_Science Fiction</th>\n",
       "      <th>new_genre_TV Movie</th>\n",
       "      <th>new_genre_Thriller</th>\n",
       "      <th>new_genre_War</th>\n",
       "      <th>new_genre_Western</th>\n",
       "    </tr>\n",
       "    <tr>\n",
       "      <th>imdb_id</th>\n",
       "      <th></th>\n",
       "      <th></th>\n",
       "      <th></th>\n",
       "      <th></th>\n",
       "      <th></th>\n",
       "      <th></th>\n",
       "      <th></th>\n",
       "      <th></th>\n",
       "      <th></th>\n",
       "      <th></th>\n",
       "      <th></th>\n",
       "      <th></th>\n",
       "      <th></th>\n",
       "      <th></th>\n",
       "      <th></th>\n",
       "      <th></th>\n",
       "      <th></th>\n",
       "      <th></th>\n",
       "      <th></th>\n",
       "      <th></th>\n",
       "      <th></th>\n",
       "    </tr>\n",
       "  </thead>\n",
       "  <tbody>\n",
       "    <tr>\n",
       "      <th>tt0035423</th>\n",
       "      <td>0</td>\n",
       "      <td>0.0</td>\n",
       "      <td>0.0</td>\n",
       "      <td>118.0</td>\n",
       "      <td>6.0</td>\n",
       "      <td>430.0</td>\n",
       "      <td>2001.0</td>\n",
       "      <td>0.0</td>\n",
       "      <td>0</td>\n",
       "      <td>0</td>\n",
       "      <td>...</td>\n",
       "      <td>0</td>\n",
       "      <td>0</td>\n",
       "      <td>0</td>\n",
       "      <td>0</td>\n",
       "      <td>0</td>\n",
       "      <td>0</td>\n",
       "      <td>0</td>\n",
       "      <td>0</td>\n",
       "      <td>0</td>\n",
       "      <td>0</td>\n",
       "    </tr>\n",
       "    <tr>\n",
       "      <th>tt0081145</th>\n",
       "      <td>0</td>\n",
       "      <td>0.0</td>\n",
       "      <td>0.0</td>\n",
       "      <td>94.0</td>\n",
       "      <td>0.0</td>\n",
       "      <td>0.0</td>\n",
       "      <td>1993.0</td>\n",
       "      <td>0.0</td>\n",
       "      <td>0</td>\n",
       "      <td>0</td>\n",
       "      <td>...</td>\n",
       "      <td>0</td>\n",
       "      <td>0</td>\n",
       "      <td>0</td>\n",
       "      <td>0</td>\n",
       "      <td>0</td>\n",
       "      <td>0</td>\n",
       "      <td>0</td>\n",
       "      <td>0</td>\n",
       "      <td>0</td>\n",
       "      <td>0</td>\n",
       "    </tr>\n",
       "  </tbody>\n",
       "</table>\n",
       "<p>2 rows × 38 columns</p>\n",
       "</div>"
      ],
      "text/plain": [
       "           budget  popularity  revenue  runtime  vote_average  vote_count  \\\n",
       "imdb_id                                                                     \n",
       "tt0035423       0         0.0      0.0    118.0           6.0       430.0   \n",
       "tt0081145       0         0.0      0.0     94.0           0.0         0.0   \n",
       "\n",
       "           Release_year  winner  production_DreamWorks SKG  \\\n",
       "imdb_id                                                      \n",
       "tt0035423        2001.0     0.0                          0   \n",
       "tt0081145        1993.0     0.0                          0   \n",
       "\n",
       "           production_Fox Searchlight Pictures  ...  new_genre_History  \\\n",
       "imdb_id                                         ...                      \n",
       "tt0035423                                    0  ...                  0   \n",
       "tt0081145                                    0  ...                  0   \n",
       "\n",
       "           new_genre_Horror  new_genre_Music  new_genre_Mystery  \\\n",
       "imdb_id                                                           \n",
       "tt0035423                 0                0                  0   \n",
       "tt0081145                 0                0                  0   \n",
       "\n",
       "           new_genre_Romance  new_genre_Science Fiction  new_genre_TV Movie  \\\n",
       "imdb_id                                                                       \n",
       "tt0035423                  0                          0                   0   \n",
       "tt0081145                  0                          0                   0   \n",
       "\n",
       "           new_genre_Thriller  new_genre_War  new_genre_Western  \n",
       "imdb_id                                                          \n",
       "tt0035423                   0              0                  0  \n",
       "tt0081145                   0              0                  0  \n",
       "\n",
       "[2 rows x 38 columns]"
      ]
     },
     "execution_count": 26,
     "metadata": {},
     "output_type": "execute_result"
    }
   ],
   "source": [
    "# Merge one-hot encoded features and drop the originals\n",
    "oscar_us_df = movie_us_df.merge(encode_df,left_index=True, right_index=True)\n",
    "oscar_us_df = oscar_us_df.drop(movie_cat,1)\n",
    "oscar_us_df.head(2)"
   ]
  },
  {
   "cell_type": "code",
   "execution_count": null,
   "metadata": {},
   "outputs": [],
   "source": []
  },
  {
   "cell_type": "code",
   "execution_count": null,
   "metadata": {},
   "outputs": [],
   "source": []
  },
  {
   "cell_type": "code",
   "execution_count": null,
   "metadata": {},
   "outputs": [],
   "source": []
  },
  {
   "cell_type": "markdown",
   "metadata": {},
   "source": [
    "### Classification (RandomForestClassification)"
   ]
  },
  {
   "cell_type": "code",
   "execution_count": 27,
   "metadata": {},
   "outputs": [
    {
     "data": {
      "text/plain": [
       "(19904, 37)"
      ]
     },
     "execution_count": 27,
     "metadata": {},
     "output_type": "execute_result"
    }
   ],
   "source": [
    "# Define the features set.\n",
    "X = oscar_us_df.copy()\n",
    "X = X.drop('winner', axis=1)\n",
    "X.shape"
   ]
  },
  {
   "cell_type": "code",
   "execution_count": 28,
   "metadata": {},
   "outputs": [
    {
     "data": {
      "text/plain": [
       "imdb_id\n",
       "tt0035423    0.0\n",
       "tt0081145    0.0\n",
       "Name: winner, dtype: float64"
      ]
     },
     "execution_count": 28,
     "metadata": {},
     "output_type": "execute_result"
    }
   ],
   "source": [
    "# Define the target set(output label)\n",
    "y = oscar_us_df['winner']\n",
    "y.head(2)"
   ]
  },
  {
   "cell_type": "code",
   "execution_count": 29,
   "metadata": {},
   "outputs": [],
   "source": [
    "# Splitting into Train and Test sets.\n",
    "X_train, X_test, y_train, y_test = train_test_split(X, y, random_state=78)"
   ]
  },
  {
   "cell_type": "code",
   "execution_count": 30,
   "metadata": {},
   "outputs": [],
   "source": [
    "# Creating a StandardScaler instance.\n",
    "scaler = StandardScaler()"
   ]
  },
  {
   "cell_type": "code",
   "execution_count": 31,
   "metadata": {},
   "outputs": [],
   "source": [
    "# Fitting the Standard Scaler with the training data.\n",
    "X_scaler = scaler.fit(X_train)"
   ]
  },
  {
   "cell_type": "code",
   "execution_count": 32,
   "metadata": {},
   "outputs": [],
   "source": [
    "# Scaling the data.\n",
    "X_train_scaled = X_scaler.transform(X_train)\n",
    "X_test_scaled = X_scaler.transform(X_test)"
   ]
  },
  {
   "cell_type": "code",
   "execution_count": 33,
   "metadata": {},
   "outputs": [],
   "source": [
    "# Create a random forest classifier.\n",
    "#rf_model = RandomForestClassifier(n_estimators=128, random_state=78) \n",
    "rf_model = RandomForestClassifier(n_estimators=500, random_state=78)"
   ]
  },
  {
   "cell_type": "code",
   "execution_count": 34,
   "metadata": {},
   "outputs": [],
   "source": [
    "# Fitting the model\n",
    "rf_model = rf_model.fit(X_train_scaled, y_train)"
   ]
  },
  {
   "cell_type": "code",
   "execution_count": 35,
   "metadata": {},
   "outputs": [
    {
     "data": {
      "text/plain": [
       "array([0., 0., 0., ..., 0., 0., 0.])"
      ]
     },
     "execution_count": 35,
     "metadata": {},
     "output_type": "execute_result"
    }
   ],
   "source": [
    "# Making predictions using the testing data.\n",
    "predictions = rf_model.predict(X_test_scaled)\n",
    "predictions"
   ]
  },
  {
   "cell_type": "code",
   "execution_count": 36,
   "metadata": {},
   "outputs": [
    {
     "data": {
      "text/html": [
       "<div>\n",
       "<style scoped>\n",
       "    .dataframe tbody tr th:only-of-type {\n",
       "        vertical-align: middle;\n",
       "    }\n",
       "\n",
       "    .dataframe tbody tr th {\n",
       "        vertical-align: top;\n",
       "    }\n",
       "\n",
       "    .dataframe thead th {\n",
       "        text-align: right;\n",
       "    }\n",
       "</style>\n",
       "<table border=\"1\" class=\"dataframe\">\n",
       "  <thead>\n",
       "    <tr style=\"text-align: right;\">\n",
       "      <th></th>\n",
       "      <th>Predicted 0</th>\n",
       "      <th>Predicted 1</th>\n",
       "    </tr>\n",
       "  </thead>\n",
       "  <tbody>\n",
       "    <tr>\n",
       "      <th>Actual 0</th>\n",
       "      <td>4144</td>\n",
       "      <td>155</td>\n",
       "    </tr>\n",
       "    <tr>\n",
       "      <th>Actual 1</th>\n",
       "      <td>445</td>\n",
       "      <td>232</td>\n",
       "    </tr>\n",
       "  </tbody>\n",
       "</table>\n",
       "</div>"
      ],
      "text/plain": [
       "          Predicted 0  Predicted 1\n",
       "Actual 0         4144          155\n",
       "Actual 1          445          232"
      ]
     },
     "execution_count": 36,
     "metadata": {},
     "output_type": "execute_result"
    }
   ],
   "source": [
    "# Calculating the confusion matrix.\n",
    "cm = confusion_matrix(y_test, predictions)\n",
    "\n",
    "# Create a DataFrame from the confusion matrix.\n",
    "cm_df = pd.DataFrame(\n",
    "    cm, index=[\"Actual 0\", \"Actual 1\"], columns=[\"Predicted 0\", \"Predicted 1\"])\n",
    "\n",
    "cm_df"
   ]
  },
  {
   "cell_type": "code",
   "execution_count": 37,
   "metadata": {},
   "outputs": [
    {
     "data": {
      "text/plain": [
       "0.8794212218649518"
      ]
     },
     "execution_count": 37,
     "metadata": {},
     "output_type": "execute_result"
    }
   ],
   "source": [
    "# Calculating the accuracy score.\n",
    "acc_score = accuracy_score(y_test, predictions)\n",
    "acc_score"
   ]
  },
  {
   "cell_type": "code",
   "execution_count": 38,
   "metadata": {},
   "outputs": [
    {
     "name": "stdout",
     "output_type": "stream",
     "text": [
      "Confusion Matrix\n"
     ]
    },
    {
     "data": {
      "text/html": [
       "<div>\n",
       "<style scoped>\n",
       "    .dataframe tbody tr th:only-of-type {\n",
       "        vertical-align: middle;\n",
       "    }\n",
       "\n",
       "    .dataframe tbody tr th {\n",
       "        vertical-align: top;\n",
       "    }\n",
       "\n",
       "    .dataframe thead th {\n",
       "        text-align: right;\n",
       "    }\n",
       "</style>\n",
       "<table border=\"1\" class=\"dataframe\">\n",
       "  <thead>\n",
       "    <tr style=\"text-align: right;\">\n",
       "      <th></th>\n",
       "      <th>Predicted 0</th>\n",
       "      <th>Predicted 1</th>\n",
       "    </tr>\n",
       "  </thead>\n",
       "  <tbody>\n",
       "    <tr>\n",
       "      <th>Actual 0</th>\n",
       "      <td>4144</td>\n",
       "      <td>155</td>\n",
       "    </tr>\n",
       "    <tr>\n",
       "      <th>Actual 1</th>\n",
       "      <td>445</td>\n",
       "      <td>232</td>\n",
       "    </tr>\n",
       "  </tbody>\n",
       "</table>\n",
       "</div>"
      ],
      "text/plain": [
       "          Predicted 0  Predicted 1\n",
       "Actual 0         4144          155\n",
       "Actual 1          445          232"
      ]
     },
     "metadata": {},
     "output_type": "display_data"
    },
    {
     "name": "stdout",
     "output_type": "stream",
     "text": [
      "Accuracy Score : 0.8794212218649518\n",
      "Classification Report\n",
      "              precision    recall  f1-score   support\n",
      "\n",
      "         0.0       0.90      0.96      0.93      4299\n",
      "         1.0       0.60      0.34      0.44       677\n",
      "\n",
      "    accuracy                           0.88      4976\n",
      "   macro avg       0.75      0.65      0.68      4976\n",
      "weighted avg       0.86      0.88      0.86      4976\n",
      "\n"
     ]
    }
   ],
   "source": [
    "# Displaying results\n",
    "print(\"Confusion Matrix\")\n",
    "display(cm_df)\n",
    "print(f\"Accuracy Score : {acc_score}\")\n",
    "print(\"Classification Report\")\n",
    "print(classification_report(y_test, predictions))"
   ]
  },
  {
   "cell_type": "code",
   "execution_count": 39,
   "metadata": {},
   "outputs": [
    {
     "data": {
      "text/plain": [
       "array([8.55269686e-02, 8.61312440e-02, 1.34067092e-01, 1.57039041e-01,\n",
       "       1.27950714e-01, 1.74916579e-01, 8.72207172e-02, 2.85902478e-03,\n",
       "       2.09517038e-03, 1.36946579e-02, 1.57732421e-03, 1.64463010e-02,\n",
       "       1.53415662e-02, 1.43757311e-03, 6.39049403e-03, 3.44763489e-03,\n",
       "       3.37849378e-03, 1.94605396e-03, 1.14338362e-02, 9.83911278e-03,\n",
       "       6.37695794e-03, 4.09775030e-03, 3.29020965e-03, 1.67728436e-02,\n",
       "       9.61195306e-04, 3.29522495e-03, 1.98971269e-07, 9.59872786e-04,\n",
       "       2.59907095e-03, 2.13356412e-03, 1.56554943e-03, 3.17840605e-03,\n",
       "       1.19903636e-03, 4.89963488e-03, 4.81990879e-03, 2.68196983e-04,\n",
       "       8.42780126e-04])"
      ]
     },
     "execution_count": 39,
     "metadata": {},
     "output_type": "execute_result"
    }
   ],
   "source": [
    "# Calculate feature importance in the Random Forest model.\n",
    "importances = rf_model.feature_importances_\n",
    "importances"
   ]
  },
  {
   "cell_type": "code",
   "execution_count": 40,
   "metadata": {},
   "outputs": [
    {
     "data": {
      "text/plain": [
       "[(0.17491657855115408, 'vote_count'),\n",
       " (0.15703904142877229, 'runtime'),\n",
       " (0.13406709170080267, 'revenue'),\n",
       " (0.12795071410161205, 'vote_average'),\n",
       " (0.08722071724572605, 'Release_year'),\n",
       " (0.086131243984054, 'popularity'),\n",
       " (0.08552696863841383, 'budget'),\n",
       " (0.016772843551914645, 'new_genre_Drama'),\n",
       " (0.016446300990701775, 'production_Other'),\n",
       " (0.015341566206327279, 'production_Paramount Pictures'),\n",
       " (0.013694657898790602, 'production_Miramax Films'),\n",
       " (0.01143383616644636, 'new_genre_Adventure'),\n",
       " (0.009839112783915041, 'new_genre_Animation'),\n",
       " (0.006390494028172891, 'production_Twentieth Century Fox Film Corporation'),\n",
       " (0.006376957940468445, 'new_genre_Comedy'),\n",
       " (0.004899634884874038, 'new_genre_TV Movie'),\n",
       " (0.004819908786982366, 'new_genre_Thriller'),\n",
       " (0.004097750302731667, 'new_genre_Crime'),\n",
       " (0.0034476348910244987, 'production_Universal Pictures'),\n",
       " (0.0033784937800449086, 'production_Walt Disney Pictures'),\n",
       " (0.003295224954137113, 'new_genre_Fantasy'),\n",
       " (0.003290209646700519, 'new_genre_Documentary'),\n",
       " (0.0031784060534569103, 'new_genre_Romance'),\n",
       " (0.0028590247792234123, 'production_DreamWorks SKG'),\n",
       " (0.002599070954433303, 'new_genre_Horror'),\n",
       " (0.0021335641237469768, 'new_genre_Music'),\n",
       " (0.0020951703834250187, 'production_Fox Searchlight Pictures'),\n",
       " (0.0019460539570527072, 'production_Warner Bros.'),\n",
       " (0.0015773242121716977, 'production_New Line Cinema'),\n",
       " (0.0015655494316736168, 'new_genre_Mystery'),\n",
       " (0.0014375731060094746, 'production_TriStar Pictures'),\n",
       " (0.0011990363629918298, 'new_genre_Science Fiction'),\n",
       " (0.0009611953058979031, 'new_genre_Family'),\n",
       " (0.0009598727860291288, 'new_genre_History'),\n",
       " (0.0008427801262768964, 'new_genre_Western'),\n",
       " (0.00026819698257510543, 'new_genre_War'),\n",
       " (1.9897126900777757e-07, 'new_genre_Foreign')]"
      ]
     },
     "execution_count": 40,
     "metadata": {},
     "output_type": "execute_result"
    }
   ],
   "source": [
    "# We can sort the features by their importance.\n",
    "sorted(zip(rf_model.feature_importances_, X.columns), reverse=True)"
   ]
  },
  {
   "cell_type": "code",
   "execution_count": null,
   "metadata": {},
   "outputs": [],
   "source": []
  }
 ],
 "metadata": {
  "kernelspec": {
   "display_name": "PythonData",
   "language": "python",
   "name": "pythondata"
  },
  "language_info": {
   "codemirror_mode": {
    "name": "ipython",
    "version": 3
   },
   "file_extension": ".py",
   "mimetype": "text/x-python",
   "name": "python",
   "nbconvert_exporter": "python",
   "pygments_lexer": "ipython3",
   "version": "3.6.10"
  }
 },
 "nbformat": 4,
 "nbformat_minor": 4
}
