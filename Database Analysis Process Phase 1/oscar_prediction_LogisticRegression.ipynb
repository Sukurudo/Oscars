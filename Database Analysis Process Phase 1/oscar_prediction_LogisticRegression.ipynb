{
 "cells": [
  {
   "cell_type": "code",
   "execution_count": 1,
   "metadata": {},
   "outputs": [],
   "source": [
    "#Add Dependencies\n",
    "import pandas as pd\n",
    "import numpy as np\n",
    "import psycopg2 as pg\n",
    "from sklearn.preprocessing import OneHotEncoder\n",
    "from sklearn.linear_model import LogisticRegression\n",
    "from sklearn.model_selection import train_test_split\n",
    "from sklearn.metrics import confusion_matrix, accuracy_score, classification_report"
   ]
  },
  {
   "cell_type": "markdown",
   "metadata": {},
   "source": [
    "### Connection to the Postgres database and Retrive data from the tables"
   ]
  },
  {
   "cell_type": "code",
   "execution_count": 2,
   "metadata": {},
   "outputs": [],
   "source": [
    "#Read Data from the PostgressSql\n",
    "conn = pg.connect(user = \"postgres\",\n",
    "                                  password = \"akshaj10\",\n",
    "                                  host = \"127.0.0.1\",\n",
    "                                  port = \"5432\",\n",
    "                                  database = \"movie_data\")\n",
    "sql1 = \"Select * From movie_metadata;\"\n",
    "sql2 = \"Select * from award;\"\n",
    "movie_df = pd.read_sql_query(sql1, conn)\n",
    "award_df = pd.read_sql_query(sql2, conn)\n",
    "conn = None"
   ]
  },
  {
   "cell_type": "code",
   "execution_count": 3,
   "metadata": {},
   "outputs": [
    {
     "data": {
      "text/plain": [
       "(45006, 13)"
      ]
     },
     "execution_count": 3,
     "metadata": {},
     "output_type": "execute_result"
    }
   ],
   "source": [
    "#Load Data into Pandas Data frame and Display the dataframe.\n",
    "movie_df.shape"
   ]
  },
  {
   "cell_type": "code",
   "execution_count": 4,
   "metadata": {},
   "outputs": [
    {
     "data": {
      "text/plain": [
       "(10395, 8)"
      ]
     },
     "execution_count": 4,
     "metadata": {},
     "output_type": "execute_result"
    }
   ],
   "source": [
    "#Load Data into Pandas Data frame and Display the dataframe.\n",
    "award_df.shape"
   ]
  },
  {
   "cell_type": "code",
   "execution_count": 5,
   "metadata": {},
   "outputs": [
    {
     "data": {
      "text/plain": [
       "(51598, 21)"
      ]
     },
     "execution_count": 5,
     "metadata": {},
     "output_type": "execute_result"
    }
   ],
   "source": [
    "#Merge the two dataframe\n",
    "combined_df = pd.merge(movie_df, award_df,how='left', left_on='title', right_on='film' )\n",
    "combined_df.shape"
   ]
  },
  {
   "cell_type": "code",
   "execution_count": 6,
   "metadata": {},
   "outputs": [
    {
     "data": {
      "text/plain": [
       "(22651, 21)"
      ]
     },
     "execution_count": 6,
     "metadata": {},
     "output_type": "execute_result"
    }
   ],
   "source": [
    "# Filter all rows for US as the country\n",
    "movie_us_df = combined_df[combined_df['country'] == 'United States of America'] \n",
    "movie_us_df.shape"
   ]
  },
  {
   "cell_type": "code",
   "execution_count": 7,
   "metadata": {},
   "outputs": [
    {
     "name": "stdout",
     "output_type": "stream",
     "text": [
      "Columnimdb_id has 3 null values\n",
      "Columnbudget has 0 null values\n",
      "Columnoriginal_title has 0 null values\n",
      "Columnpopularity has 0 null values\n",
      "Columnrelease_date has 2 null values\n",
      "Columnrevenue has 0 null values\n",
      "Columnruntime has 5 null values\n",
      "Columntitle has 0 null values\n",
      "Columnvote_average has 0 null values\n",
      "Columnvote_count has 0 null values\n",
      "Columnproduction has 2317 null values\n",
      "Columncountry has 0 null values\n",
      "Columnnew_genre has 0 null values\n",
      "Columnindex has 15911 null values\n",
      "Columnyear_film has 15911 null values\n",
      "Columnyear_ceremony has 15911 null values\n",
      "Columnceremony has 15911 null values\n",
      "Columncategory has 15911 null values\n",
      "Columnname has 15911 null values\n",
      "Columnfilm has 15911 null values\n",
      "Columnwinner has 15911 null values\n"
     ]
    }
   ],
   "source": [
    "# Find null values\n",
    "for column in movie_us_df.columns:\n",
    "    print(f\"Column{column} has {movie_us_df[column].isnull().sum()} null values\")"
   ]
  },
  {
   "cell_type": "code",
   "execution_count": 8,
   "metadata": {},
   "outputs": [],
   "source": [
    "#Set the index to IMDB_ID\n",
    "movie_us_df = movie_us_df.set_index(\"imdb_id\")"
   ]
  },
  {
   "cell_type": "code",
   "execution_count": 9,
   "metadata": {},
   "outputs": [],
   "source": [
    "columns =['budget','original_title','popularity','revenue','runtime','vote_average','vote_count','production','country','new_genre','category','year_film', 'winner']\n",
    "\n",
    "target = ['winner']"
   ]
  },
  {
   "cell_type": "code",
   "execution_count": 10,
   "metadata": {},
   "outputs": [
    {
     "data": {
      "text/plain": [
       "(22651, 13)"
      ]
     },
     "execution_count": 10,
     "metadata": {},
     "output_type": "execute_result"
    }
   ],
   "source": [
    "movie_us_df = movie_us_df.loc[:, columns].copy()\n",
    "movie_us_df.shape"
   ]
  },
  {
   "cell_type": "code",
   "execution_count": 11,
   "metadata": {},
   "outputs": [
    {
     "data": {
      "text/plain": [
       "(22651, 13)"
      ]
     },
     "execution_count": 11,
     "metadata": {},
     "output_type": "execute_result"
    }
   ],
   "source": [
    "#Convert winner column into numbers \n",
    "movie_us_df[\"winner\"] = movie_us_df[\"winner\"].replace({True: 1, False: 0})\n",
    "movie_us_df.shape"
   ]
  },
  {
   "cell_type": "code",
   "execution_count": 12,
   "metadata": {},
   "outputs": [],
   "source": [
    "movie_us_df['budget']=movie_us_df.budget.astype('int64')"
   ]
  },
  {
   "cell_type": "code",
   "execution_count": 13,
   "metadata": {},
   "outputs": [
    {
     "data": {
      "text/html": [
       "<div>\n",
       "<style scoped>\n",
       "    .dataframe tbody tr th:only-of-type {\n",
       "        vertical-align: middle;\n",
       "    }\n",
       "\n",
       "    .dataframe tbody tr th {\n",
       "        vertical-align: top;\n",
       "    }\n",
       "\n",
       "    .dataframe thead th {\n",
       "        text-align: right;\n",
       "    }\n",
       "</style>\n",
       "<table border=\"1\" class=\"dataframe\">\n",
       "  <thead>\n",
       "    <tr style=\"text-align: right;\">\n",
       "      <th></th>\n",
       "      <th>original_title</th>\n",
       "    </tr>\n",
       "    <tr>\n",
       "      <th>imdb_id</th>\n",
       "      <th></th>\n",
       "    </tr>\n",
       "  </thead>\n",
       "  <tbody>\n",
       "    <tr>\n",
       "      <th>tt0114709</th>\n",
       "      <td>Toy Story</td>\n",
       "    </tr>\n",
       "    <tr>\n",
       "      <th>tt0114709</th>\n",
       "      <td>Toy Story</td>\n",
       "    </tr>\n",
       "    <tr>\n",
       "      <th>tt0114709</th>\n",
       "      <td>Toy Story</td>\n",
       "    </tr>\n",
       "    <tr>\n",
       "      <th>tt0113497</th>\n",
       "      <td>Jumanji</td>\n",
       "    </tr>\n",
       "    <tr>\n",
       "      <th>tt0113228</th>\n",
       "      <td>Grumpier Old Men</td>\n",
       "    </tr>\n",
       "  </tbody>\n",
       "</table>\n",
       "</div>"
      ],
      "text/plain": [
       "             original_title\n",
       "imdb_id                    \n",
       "tt0114709         Toy Story\n",
       "tt0114709         Toy Story\n",
       "tt0114709         Toy Story\n",
       "tt0113497           Jumanji\n",
       "tt0113228  Grumpier Old Men"
      ]
     },
     "execution_count": 13,
     "metadata": {},
     "output_type": "execute_result"
    }
   ],
   "source": [
    "# Create a title Dataframe.\n",
    "title_df=pd.DataFrame(data=movie_us_df['original_title'],index=movie_us_df.index,copy=True)\n",
    "title_df.head()"
   ]
  },
  {
   "cell_type": "code",
   "execution_count": 14,
   "metadata": {},
   "outputs": [
    {
     "data": {
      "text/html": [
       "<div>\n",
       "<style scoped>\n",
       "    .dataframe tbody tr th:only-of-type {\n",
       "        vertical-align: middle;\n",
       "    }\n",
       "\n",
       "    .dataframe tbody tr th {\n",
       "        vertical-align: top;\n",
       "    }\n",
       "\n",
       "    .dataframe thead th {\n",
       "        text-align: right;\n",
       "    }\n",
       "</style>\n",
       "<table border=\"1\" class=\"dataframe\">\n",
       "  <thead>\n",
       "    <tr style=\"text-align: right;\">\n",
       "      <th></th>\n",
       "      <th>budget</th>\n",
       "      <th>popularity</th>\n",
       "      <th>revenue</th>\n",
       "      <th>runtime</th>\n",
       "      <th>vote_average</th>\n",
       "      <th>vote_count</th>\n",
       "      <th>production</th>\n",
       "      <th>country</th>\n",
       "      <th>new_genre</th>\n",
       "      <th>category</th>\n",
       "      <th>year_film</th>\n",
       "      <th>winner</th>\n",
       "    </tr>\n",
       "    <tr>\n",
       "      <th>imdb_id</th>\n",
       "      <th></th>\n",
       "      <th></th>\n",
       "      <th></th>\n",
       "      <th></th>\n",
       "      <th></th>\n",
       "      <th></th>\n",
       "      <th></th>\n",
       "      <th></th>\n",
       "      <th></th>\n",
       "      <th></th>\n",
       "      <th></th>\n",
       "      <th></th>\n",
       "    </tr>\n",
       "  </thead>\n",
       "  <tbody>\n",
       "    <tr>\n",
       "      <th>tt0114709</th>\n",
       "      <td>30000000</td>\n",
       "      <td>21.946943</td>\n",
       "      <td>373554033.0</td>\n",
       "      <td>81.0</td>\n",
       "      <td>7.7</td>\n",
       "      <td>5415.0</td>\n",
       "      <td>Pixar Animation Studios</td>\n",
       "      <td>United States of America</td>\n",
       "      <td>Animation</td>\n",
       "      <td>MUSIC (Original Musical or Comedy Score)</td>\n",
       "      <td>1995.0</td>\n",
       "      <td>0.0</td>\n",
       "    </tr>\n",
       "    <tr>\n",
       "      <th>tt0114709</th>\n",
       "      <td>30000000</td>\n",
       "      <td>21.946943</td>\n",
       "      <td>373554033.0</td>\n",
       "      <td>81.0</td>\n",
       "      <td>7.7</td>\n",
       "      <td>5415.0</td>\n",
       "      <td>Pixar Animation Studios</td>\n",
       "      <td>United States of America</td>\n",
       "      <td>Animation</td>\n",
       "      <td>MUSIC (Original Song)</td>\n",
       "      <td>1995.0</td>\n",
       "      <td>0.0</td>\n",
       "    </tr>\n",
       "    <tr>\n",
       "      <th>tt0114709</th>\n",
       "      <td>30000000</td>\n",
       "      <td>21.946943</td>\n",
       "      <td>373554033.0</td>\n",
       "      <td>81.0</td>\n",
       "      <td>7.7</td>\n",
       "      <td>5415.0</td>\n",
       "      <td>Pixar Animation Studios</td>\n",
       "      <td>United States of America</td>\n",
       "      <td>Animation</td>\n",
       "      <td>WRITING (Screenplay Written Directly for the S...</td>\n",
       "      <td>1995.0</td>\n",
       "      <td>0.0</td>\n",
       "    </tr>\n",
       "    <tr>\n",
       "      <th>tt0113497</th>\n",
       "      <td>65000000</td>\n",
       "      <td>17.015539</td>\n",
       "      <td>262797249.0</td>\n",
       "      <td>104.0</td>\n",
       "      <td>6.9</td>\n",
       "      <td>2413.0</td>\n",
       "      <td>TriStar Pictures</td>\n",
       "      <td>United States of America</td>\n",
       "      <td>Adventure</td>\n",
       "      <td>NaN</td>\n",
       "      <td>NaN</td>\n",
       "      <td>NaN</td>\n",
       "    </tr>\n",
       "    <tr>\n",
       "      <th>tt0113228</th>\n",
       "      <td>0</td>\n",
       "      <td>11.7129</td>\n",
       "      <td>0.0</td>\n",
       "      <td>101.0</td>\n",
       "      <td>6.5</td>\n",
       "      <td>92.0</td>\n",
       "      <td>Warner Bros.</td>\n",
       "      <td>United States of America</td>\n",
       "      <td>Romance</td>\n",
       "      <td>NaN</td>\n",
       "      <td>NaN</td>\n",
       "      <td>NaN</td>\n",
       "    </tr>\n",
       "  </tbody>\n",
       "</table>\n",
       "</div>"
      ],
      "text/plain": [
       "             budget popularity      revenue  runtime  vote_average  \\\n",
       "imdb_id                                                              \n",
       "tt0114709  30000000  21.946943  373554033.0     81.0           7.7   \n",
       "tt0114709  30000000  21.946943  373554033.0     81.0           7.7   \n",
       "tt0114709  30000000  21.946943  373554033.0     81.0           7.7   \n",
       "tt0113497  65000000  17.015539  262797249.0    104.0           6.9   \n",
       "tt0113228         0    11.7129          0.0    101.0           6.5   \n",
       "\n",
       "           vote_count               production                   country  \\\n",
       "imdb_id                                                                    \n",
       "tt0114709      5415.0  Pixar Animation Studios  United States of America   \n",
       "tt0114709      5415.0  Pixar Animation Studios  United States of America   \n",
       "tt0114709      5415.0  Pixar Animation Studios  United States of America   \n",
       "tt0113497      2413.0         TriStar Pictures  United States of America   \n",
       "tt0113228        92.0             Warner Bros.  United States of America   \n",
       "\n",
       "           new_genre                                           category  \\\n",
       "imdb_id                                                                   \n",
       "tt0114709  Animation           MUSIC (Original Musical or Comedy Score)   \n",
       "tt0114709  Animation                              MUSIC (Original Song)   \n",
       "tt0114709  Animation  WRITING (Screenplay Written Directly for the S...   \n",
       "tt0113497  Adventure                                                NaN   \n",
       "tt0113228    Romance                                                NaN   \n",
       "\n",
       "           year_film  winner  \n",
       "imdb_id                       \n",
       "tt0114709     1995.0     0.0  \n",
       "tt0114709     1995.0     0.0  \n",
       "tt0114709     1995.0     0.0  \n",
       "tt0113497        NaN     NaN  \n",
       "tt0113228        NaN     NaN  "
      ]
     },
     "execution_count": 14,
     "metadata": {},
     "output_type": "execute_result"
    }
   ],
   "source": [
    "# Remove the movie title from the dataframe\n",
    "movie_us_df = movie_us_df.drop('original_title',1)\n",
    "movie_us_df.head()"
   ]
  },
  {
   "cell_type": "code",
   "execution_count": 15,
   "metadata": {},
   "outputs": [
    {
     "data": {
      "text/plain": [
       "popularity    18127\n",
       "production     4611\n",
       "country           1\n",
       "new_genre        20\n",
       "category        100\n",
       "dtype: int64"
      ]
     },
     "execution_count": 15,
     "metadata": {},
     "output_type": "execute_result"
    }
   ],
   "source": [
    "# Generate our categorical variable list for movie dataset\n",
    "movie_cat = movie_us_df.dtypes[movie_us_df.dtypes == \"object\"].index.tolist()\n",
    "\n",
    "# Check the number of unique values in each column\n",
    "movie_us_df[movie_cat].nunique()"
   ]
  },
  {
   "cell_type": "code",
   "execution_count": 16,
   "metadata": {},
   "outputs": [
    {
     "data": {
      "text/plain": [
       "(6597, 12)"
      ]
     },
     "execution_count": 16,
     "metadata": {},
     "output_type": "execute_result"
    }
   ],
   "source": [
    "# Drop null rows\n",
    "movie_us_df = movie_us_df.dropna(axis = 0,how= 'any')\n",
    "movie_us_df.shape\n"
   ]
  },
  {
   "cell_type": "code",
   "execution_count": 17,
   "metadata": {},
   "outputs": [
    {
     "data": {
      "text/plain": [
       "(6597, 2947)"
      ]
     },
     "execution_count": 17,
     "metadata": {},
     "output_type": "execute_result"
    }
   ],
   "source": [
    "# let's examine how many columns we will obtain after one hot encoding these variables\n",
    "encode_df=pd.get_dummies(movie_us_df[movie_cat], drop_first=True)\n",
    "encode_df.shape"
   ]
  },
  {
   "cell_type": "code",
   "execution_count": 18,
   "metadata": {},
   "outputs": [
    {
     "data": {
      "text/html": [
       "<div>\n",
       "<style scoped>\n",
       "    .dataframe tbody tr th:only-of-type {\n",
       "        vertical-align: middle;\n",
       "    }\n",
       "\n",
       "    .dataframe tbody tr th {\n",
       "        vertical-align: top;\n",
       "    }\n",
       "\n",
       "    .dataframe thead th {\n",
       "        text-align: right;\n",
       "    }\n",
       "</style>\n",
       "<table border=\"1\" class=\"dataframe\">\n",
       "  <thead>\n",
       "    <tr style=\"text-align: right;\">\n",
       "      <th></th>\n",
       "      <th>budget</th>\n",
       "      <th>revenue</th>\n",
       "      <th>runtime</th>\n",
       "      <th>vote_average</th>\n",
       "      <th>vote_count</th>\n",
       "      <th>year_film</th>\n",
       "      <th>winner</th>\n",
       "      <th>popularity_0.00118</th>\n",
       "      <th>popularity_0.001191</th>\n",
       "      <th>popularity_0.001224</th>\n",
       "      <th>...</th>\n",
       "      <th>category_WRITING (Screenplay Written Directly for the Screen)</th>\n",
       "      <th>category_WRITING (Screenplay Written Directly for the Screen--based on factual material or on story material not previously published or produced)</th>\n",
       "      <th>category_WRITING (Screenplay)</th>\n",
       "      <th>category_WRITING (Screenplay--Adapted)</th>\n",
       "      <th>category_WRITING (Screenplay--Original)</th>\n",
       "      <th>category_WRITING (Screenplay--based on material from another medium)</th>\n",
       "      <th>category_WRITING (Story and Screenplay)</th>\n",
       "      <th>category_WRITING (Story and Screenplay--based on factual material or material not previously published or produced)</th>\n",
       "      <th>category_WRITING (Story and Screenplay--based on material not previously published or produced)</th>\n",
       "      <th>category_WRITING (Story and Screenplay--written directly for the screen)</th>\n",
       "    </tr>\n",
       "    <tr>\n",
       "      <th>imdb_id</th>\n",
       "      <th></th>\n",
       "      <th></th>\n",
       "      <th></th>\n",
       "      <th></th>\n",
       "      <th></th>\n",
       "      <th></th>\n",
       "      <th></th>\n",
       "      <th></th>\n",
       "      <th></th>\n",
       "      <th></th>\n",
       "      <th></th>\n",
       "      <th></th>\n",
       "      <th></th>\n",
       "      <th></th>\n",
       "      <th></th>\n",
       "      <th></th>\n",
       "      <th></th>\n",
       "      <th></th>\n",
       "      <th></th>\n",
       "      <th></th>\n",
       "      <th></th>\n",
       "    </tr>\n",
       "  </thead>\n",
       "  <tbody>\n",
       "    <tr>\n",
       "      <th>tt0002101</th>\n",
       "      <td>0</td>\n",
       "      <td>0.0</td>\n",
       "      <td>88.0</td>\n",
       "      <td>4.0</td>\n",
       "      <td>1.0</td>\n",
       "      <td>1934.0</td>\n",
       "      <td>0.0</td>\n",
       "      <td>0</td>\n",
       "      <td>0</td>\n",
       "      <td>0</td>\n",
       "      <td>...</td>\n",
       "      <td>0</td>\n",
       "      <td>0</td>\n",
       "      <td>0</td>\n",
       "      <td>0</td>\n",
       "      <td>0</td>\n",
       "      <td>0</td>\n",
       "      <td>0</td>\n",
       "      <td>0</td>\n",
       "      <td>0</td>\n",
       "      <td>0</td>\n",
       "    </tr>\n",
       "    <tr>\n",
       "      <th>tt0002101</th>\n",
       "      <td>0</td>\n",
       "      <td>0.0</td>\n",
       "      <td>88.0</td>\n",
       "      <td>4.0</td>\n",
       "      <td>1.0</td>\n",
       "      <td>1934.0</td>\n",
       "      <td>0.0</td>\n",
       "      <td>0</td>\n",
       "      <td>0</td>\n",
       "      <td>0</td>\n",
       "      <td>...</td>\n",
       "      <td>0</td>\n",
       "      <td>0</td>\n",
       "      <td>0</td>\n",
       "      <td>0</td>\n",
       "      <td>0</td>\n",
       "      <td>0</td>\n",
       "      <td>0</td>\n",
       "      <td>0</td>\n",
       "      <td>0</td>\n",
       "      <td>0</td>\n",
       "    </tr>\n",
       "  </tbody>\n",
       "</table>\n",
       "<p>2 rows × 2954 columns</p>\n",
       "</div>"
      ],
      "text/plain": [
       "           budget  revenue  runtime  vote_average  vote_count  year_film  \\\n",
       "imdb_id                                                                    \n",
       "tt0002101       0      0.0     88.0           4.0         1.0     1934.0   \n",
       "tt0002101       0      0.0     88.0           4.0         1.0     1934.0   \n",
       "\n",
       "           winner  popularity_0.00118  popularity_0.001191  \\\n",
       "imdb_id                                                      \n",
       "tt0002101     0.0                   0                    0   \n",
       "tt0002101     0.0                   0                    0   \n",
       "\n",
       "           popularity_0.001224  ...  \\\n",
       "imdb_id                         ...   \n",
       "tt0002101                    0  ...   \n",
       "tt0002101                    0  ...   \n",
       "\n",
       "           category_WRITING (Screenplay Written Directly for the Screen)  \\\n",
       "imdb_id                                                                    \n",
       "tt0002101                                                  0               \n",
       "tt0002101                                                  0               \n",
       "\n",
       "           category_WRITING (Screenplay Written Directly for the Screen--based on factual material or on story material not previously published or produced)  \\\n",
       "imdb_id                                                                                                                                                         \n",
       "tt0002101                                                  0                                                                                                    \n",
       "tt0002101                                                  0                                                                                                    \n",
       "\n",
       "           category_WRITING (Screenplay)  \\\n",
       "imdb_id                                    \n",
       "tt0002101                              0   \n",
       "tt0002101                              0   \n",
       "\n",
       "           category_WRITING (Screenplay--Adapted)  \\\n",
       "imdb_id                                             \n",
       "tt0002101                                       0   \n",
       "tt0002101                                       0   \n",
       "\n",
       "           category_WRITING (Screenplay--Original)  \\\n",
       "imdb_id                                              \n",
       "tt0002101                                        0   \n",
       "tt0002101                                        0   \n",
       "\n",
       "           category_WRITING (Screenplay--based on material from another medium)  \\\n",
       "imdb_id                                                                           \n",
       "tt0002101                                                  0                      \n",
       "tt0002101                                                  0                      \n",
       "\n",
       "           category_WRITING (Story and Screenplay)  \\\n",
       "imdb_id                                              \n",
       "tt0002101                                        0   \n",
       "tt0002101                                        0   \n",
       "\n",
       "           category_WRITING (Story and Screenplay--based on factual material or material not previously published or produced)  \\\n",
       "imdb_id                                                                                                                          \n",
       "tt0002101                                                  0                                                                     \n",
       "tt0002101                                                  0                                                                     \n",
       "\n",
       "           category_WRITING (Story and Screenplay--based on material not previously published or produced)  \\\n",
       "imdb_id                                                                                                      \n",
       "tt0002101                                                  0                                                 \n",
       "tt0002101                                                  0                                                 \n",
       "\n",
       "           category_WRITING (Story and Screenplay--written directly for the screen)  \n",
       "imdb_id                                                                              \n",
       "tt0002101                                                  0                         \n",
       "tt0002101                                                  0                         \n",
       "\n",
       "[2 rows x 2954 columns]"
      ]
     },
     "execution_count": 18,
     "metadata": {},
     "output_type": "execute_result"
    }
   ],
   "source": [
    "# Merge one-hot encoded features and drop the originals\n",
    "oscar_us_df = movie_us_df.merge(encode_df,left_index=True, right_index=True)\n",
    "oscar_us_df = oscar_us_df.drop(movie_cat,1)\n",
    "oscar_us_df.head(2)"
   ]
  },
  {
   "cell_type": "markdown",
   "metadata": {},
   "source": [
    "### Create a Logistic Regression Model"
   ]
  },
  {
   "cell_type": "code",
   "execution_count": 19,
   "metadata": {},
   "outputs": [
    {
     "data": {
      "text/plain": [
       "(36263, 2953)"
      ]
     },
     "execution_count": 19,
     "metadata": {},
     "output_type": "execute_result"
    }
   ],
   "source": [
    "# Define the features set.\n",
    "X = oscar_us_df.copy()\n",
    "X = X.drop('winner', axis=1)\n",
    "X.shape"
   ]
  },
  {
   "cell_type": "code",
   "execution_count": 20,
   "metadata": {},
   "outputs": [
    {
     "data": {
      "text/plain": [
       "imdb_id\n",
       "tt0002101    0.0\n",
       "tt0002101    0.0\n",
       "Name: winner, dtype: float64"
      ]
     },
     "execution_count": 20,
     "metadata": {},
     "output_type": "execute_result"
    }
   ],
   "source": [
    "# Define the target set(output label)\n",
    "y = oscar_us_df['winner']\n",
    "y.head(2)"
   ]
  },
  {
   "cell_type": "code",
   "execution_count": 21,
   "metadata": {},
   "outputs": [],
   "source": [
    "# Splitting into Train and Test sets.\n",
    "X_train, X_test, y_train, y_test = train_test_split(X, y, random_state=78, stratify=y)"
   ]
  },
  {
   "cell_type": "code",
   "execution_count": 22,
   "metadata": {},
   "outputs": [
    {
     "name": "stdout",
     "output_type": "stream",
     "text": [
      "(27197, 2953)\n",
      "(9066, 2953)\n",
      "(27197,)\n",
      "(9066,)\n"
     ]
    }
   ],
   "source": [
    "# Determine the shape of our training and testing sets.\n",
    "print(X_train.shape)\n",
    "print(X_test.shape)\n",
    "print(y_train.shape)\n",
    "print(y_test.shape)"
   ]
  },
  {
   "cell_type": "code",
   "execution_count": 23,
   "metadata": {},
   "outputs": [
    {
     "data": {
      "text/plain": [
       "LogisticRegression(C=1.0, class_weight=None, dual=False, fit_intercept=True,\n",
       "                   intercept_scaling=1, l1_ratio=None, max_iter=200,\n",
       "                   multi_class='auto', n_jobs=None, penalty='l2',\n",
       "                   random_state=78, solver='lbfgs', tol=0.0001, verbose=0,\n",
       "                   warm_start=False)"
      ]
     },
     "execution_count": 23,
     "metadata": {},
     "output_type": "execute_result"
    }
   ],
   "source": [
    "# Creating the logistic Regression classifier instance.\n",
    "classifier = LogisticRegression(solver='lbfgs',\n",
    "                                max_iter=200,\n",
    "                                random_state=78)\n",
    "# Fitting the model.\n",
    "classifier.fit(X_train, y_train)"
   ]
  },
  {
   "cell_type": "code",
   "execution_count": 24,
   "metadata": {},
   "outputs": [],
   "source": [
    "# Making predictions using the testing data.\n",
    "y_pred = classifier.predict(X_test)\n",
    "#results = pd.DataFrame({\"Prediction\": y_pred, \"Actual\": y_test}).reset_index(drop=True)\n",
    "#results.head(20)"
   ]
  },
  {
   "cell_type": "code",
   "execution_count": 25,
   "metadata": {},
   "outputs": [
    {
     "data": {
      "text/html": [
       "<div>\n",
       "<style scoped>\n",
       "    .dataframe tbody tr th:only-of-type {\n",
       "        vertical-align: middle;\n",
       "    }\n",
       "\n",
       "    .dataframe tbody tr th {\n",
       "        vertical-align: top;\n",
       "    }\n",
       "\n",
       "    .dataframe thead th {\n",
       "        text-align: right;\n",
       "    }\n",
       "</style>\n",
       "<table border=\"1\" class=\"dataframe\">\n",
       "  <thead>\n",
       "    <tr style=\"text-align: right;\">\n",
       "      <th></th>\n",
       "      <th>Predicted 0</th>\n",
       "      <th>Predicted 1</th>\n",
       "    </tr>\n",
       "  </thead>\n",
       "  <tbody>\n",
       "    <tr>\n",
       "      <th>Actual 0</th>\n",
       "      <td>5877</td>\n",
       "      <td>811</td>\n",
       "    </tr>\n",
       "    <tr>\n",
       "      <th>Actual 1</th>\n",
       "      <td>2027</td>\n",
       "      <td>351</td>\n",
       "    </tr>\n",
       "  </tbody>\n",
       "</table>\n",
       "</div>"
      ],
      "text/plain": [
       "          Predicted 0  Predicted 1\n",
       "Actual 0         5877          811\n",
       "Actual 1         2027          351"
      ]
     },
     "execution_count": 25,
     "metadata": {},
     "output_type": "execute_result"
    }
   ],
   "source": [
    "# Calculating the confusion matrix\n",
    "cm = confusion_matrix(y_test, y_pred)\n",
    "cm_df = pd.DataFrame(\n",
    "    cm, index=[\"Actual 0\", \"Actual 1\"], columns=[\"Predicted 0\", \"Predicted 1\"]\n",
    ")\n",
    "\n",
    "cm_df"
   ]
  },
  {
   "cell_type": "code",
   "execution_count": 26,
   "metadata": {},
   "outputs": [
    {
     "data": {
      "text/plain": [
       "0.686962276637988"
      ]
     },
     "execution_count": 26,
     "metadata": {},
     "output_type": "execute_result"
    }
   ],
   "source": [
    "# Calculating the accuracy score\n",
    "acc_score = accuracy_score(y_test, y_pred)\n",
    "acc_score"
   ]
  },
  {
   "cell_type": "code",
   "execution_count": 27,
   "metadata": {},
   "outputs": [
    {
     "name": "stdout",
     "output_type": "stream",
     "text": [
      "Confusion Matrix\n"
     ]
    },
    {
     "data": {
      "text/html": [
       "<div>\n",
       "<style scoped>\n",
       "    .dataframe tbody tr th:only-of-type {\n",
       "        vertical-align: middle;\n",
       "    }\n",
       "\n",
       "    .dataframe tbody tr th {\n",
       "        vertical-align: top;\n",
       "    }\n",
       "\n",
       "    .dataframe thead th {\n",
       "        text-align: right;\n",
       "    }\n",
       "</style>\n",
       "<table border=\"1\" class=\"dataframe\">\n",
       "  <thead>\n",
       "    <tr style=\"text-align: right;\">\n",
       "      <th></th>\n",
       "      <th>Predicted 0</th>\n",
       "      <th>Predicted 1</th>\n",
       "    </tr>\n",
       "  </thead>\n",
       "  <tbody>\n",
       "    <tr>\n",
       "      <th>Actual 0</th>\n",
       "      <td>5877</td>\n",
       "      <td>811</td>\n",
       "    </tr>\n",
       "    <tr>\n",
       "      <th>Actual 1</th>\n",
       "      <td>2027</td>\n",
       "      <td>351</td>\n",
       "    </tr>\n",
       "  </tbody>\n",
       "</table>\n",
       "</div>"
      ],
      "text/plain": [
       "          Predicted 0  Predicted 1\n",
       "Actual 0         5877          811\n",
       "Actual 1         2027          351"
      ]
     },
     "metadata": {},
     "output_type": "display_data"
    },
    {
     "name": "stdout",
     "output_type": "stream",
     "text": [
      "Accuracy Score : 0.686962276637988\n",
      "Classification Report\n",
      "              precision    recall  f1-score   support\n",
      "\n",
      "         0.0       0.74      0.88      0.81      6688\n",
      "         1.0       0.30      0.15      0.20      2378\n",
      "\n",
      "    accuracy                           0.69      9066\n",
      "   macro avg       0.52      0.51      0.50      9066\n",
      "weighted avg       0.63      0.69      0.65      9066\n",
      "\n"
     ]
    }
   ],
   "source": [
    "# Displaying results\n",
    "print(\"Confusion Matrix\")\n",
    "display(cm_df)\n",
    "print(f\"Accuracy Score : {acc_score}\")\n",
    "print(\"Classification Report\")\n",
    "print(classification_report(y_test, y_pred))"
   ]
  }
 ],
 "metadata": {
  "kernelspec": {
   "display_name": "mlenv",
   "language": "python",
   "name": "mlenv"
  },
  "language_info": {
   "codemirror_mode": {
    "name": "ipython",
    "version": 3
   },
   "file_extension": ".py",
   "mimetype": "text/x-python",
   "name": "python",
   "nbconvert_exporter": "python",
   "pygments_lexer": "ipython3",
   "version": "3.7.7"
  }
 },
 "nbformat": 4,
 "nbformat_minor": 4
}
