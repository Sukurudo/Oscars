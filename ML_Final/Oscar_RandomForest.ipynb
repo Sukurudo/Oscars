{
 "cells": [
  {
   "cell_type": "code",
   "execution_count": 15,
   "metadata": {},
   "outputs": [],
   "source": [
    "#Add Dependencies\n",
    "import pandas as pd\n",
    "import numpy as np\n",
    "import psycopg2 as pg\n",
    "from sklearn.preprocessing import OneHotEncoder\n",
    "from sklearn.ensemble import RandomForestClassifier\n",
    "from sklearn.preprocessing import StandardScaler\n",
    "from sklearn.model_selection import train_test_split\n",
    "from sklearn.metrics import confusion_matrix, accuracy_score, classification_report"
   ]
  },
  {
   "cell_type": "markdown",
   "metadata": {},
   "source": [
    "### Connection to the Postgres database and Retrive data from the tables"
   ]
  },
  {
   "cell_type": "code",
   "execution_count": 16,
   "metadata": {},
   "outputs": [],
   "source": [
    "#Read Data from the PostgressSql\n",
    "conn = pg.connect(user = \"postgres\",\n",
    "                                  password = \"akshaj10\",\n",
    "                                  host = \"127.0.0.1\",\n",
    "                                  port = \"5432\",\n",
    "                                  database = \"movie_data\")\n",
    "sql1 = \"SELECT * FROM oscar_metadata;\"\n",
    "combined_df = pd.read_sql_query(sql1, conn)\n",
    "conn = None"
   ]
  },
  {
   "cell_type": "code",
   "execution_count": 17,
   "metadata": {},
   "outputs": [
    {
     "data": {
      "text/plain": [
       "(51147, 17)"
      ]
     },
     "execution_count": 17,
     "metadata": {},
     "output_type": "execute_result"
    }
   ],
   "source": [
    "#Load Data into Pandas Data frame and Display the dataframe.\n",
    "combined_df.shape"
   ]
  },
  {
   "cell_type": "code",
   "execution_count": 18,
   "metadata": {},
   "outputs": [
    {
     "data": {
      "text/plain": [
       "(22647, 17)"
      ]
     },
     "execution_count": 18,
     "metadata": {},
     "output_type": "execute_result"
    }
   ],
   "source": [
    "# Filter all rows for US as the country\n",
    "movie_us_df = combined_df[combined_df['country'] == 'United States of America'] \n",
    "movie_us_df.shape"
   ]
  },
  {
   "cell_type": "code",
   "execution_count": 19,
   "metadata": {},
   "outputs": [
    {
     "name": "stdout",
     "output_type": "stream",
     "text": [
      "Columnimdb_id has 3 null values\n",
      "Columnbudget has 0 null values\n",
      "Columnoriginal_title has 0 null values\n",
      "Columnpopularity has 0 null values\n",
      "Columnrevenue has 0 null values\n",
      "Columnruntime has 5 null values\n",
      "Columntitle has 0 null values\n",
      "Columnvote_average has 0 null values\n",
      "Columnvote_count has 0 null values\n",
      "Columnproduction has 0 null values\n",
      "Columncountry has 0 null values\n",
      "Columnnew_genre has 0 null values\n",
      "ColumnRelease_year has 2 null values\n",
      "Columnindex has 15911 null values\n",
      "Columncategory has 15911 null values\n",
      "Columnfilm has 15911 null values\n",
      "Columnwinner has 15911 null values\n"
     ]
    }
   ],
   "source": [
    "# Find null values\n",
    "for column in movie_us_df.columns:\n",
    "    print(f\"Column{column} has {movie_us_df[column].isnull().sum()} null values\")"
   ]
  },
  {
   "cell_type": "code",
   "execution_count": 20,
   "metadata": {},
   "outputs": [
    {
     "data": {
      "text/html": [
       "<div>\n",
       "<style scoped>\n",
       "    .dataframe tbody tr th:only-of-type {\n",
       "        vertical-align: middle;\n",
       "    }\n",
       "\n",
       "    .dataframe tbody tr th {\n",
       "        vertical-align: top;\n",
       "    }\n",
       "\n",
       "    .dataframe thead th {\n",
       "        text-align: right;\n",
       "    }\n",
       "</style>\n",
       "<table border=\"1\" class=\"dataframe\">\n",
       "  <thead>\n",
       "    <tr style=\"text-align: right;\">\n",
       "      <th></th>\n",
       "      <th>budget</th>\n",
       "      <th>original_title</th>\n",
       "      <th>popularity</th>\n",
       "      <th>revenue</th>\n",
       "      <th>runtime</th>\n",
       "      <th>title</th>\n",
       "      <th>vote_average</th>\n",
       "      <th>vote_count</th>\n",
       "      <th>production</th>\n",
       "      <th>country</th>\n",
       "      <th>new_genre</th>\n",
       "      <th>Release_year</th>\n",
       "      <th>index</th>\n",
       "      <th>category</th>\n",
       "      <th>film</th>\n",
       "      <th>winner</th>\n",
       "    </tr>\n",
       "    <tr>\n",
       "      <th>imdb_id</th>\n",
       "      <th></th>\n",
       "      <th></th>\n",
       "      <th></th>\n",
       "      <th></th>\n",
       "      <th></th>\n",
       "      <th></th>\n",
       "      <th></th>\n",
       "      <th></th>\n",
       "      <th></th>\n",
       "      <th></th>\n",
       "      <th></th>\n",
       "      <th></th>\n",
       "      <th></th>\n",
       "      <th></th>\n",
       "      <th></th>\n",
       "      <th></th>\n",
       "    </tr>\n",
       "  </thead>\n",
       "  <tbody>\n",
       "    <tr>\n",
       "      <th>tt0114709</th>\n",
       "      <td>30000000</td>\n",
       "      <td>Toy Story</td>\n",
       "      <td>30000000.0</td>\n",
       "      <td>373554033.0</td>\n",
       "      <td>81.0</td>\n",
       "      <td>Toy Story</td>\n",
       "      <td>7.7</td>\n",
       "      <td>5415.0</td>\n",
       "      <td>Pixar Animation Studios</td>\n",
       "      <td>United States of America</td>\n",
       "      <td>Animation</td>\n",
       "      <td>1995</td>\n",
       "      <td>7548.0</td>\n",
       "      <td>WRITING (Screenplay Written Directly for the S...</td>\n",
       "      <td>Toy Story</td>\n",
       "      <td>False</td>\n",
       "    </tr>\n",
       "    <tr>\n",
       "      <th>tt0114709</th>\n",
       "      <td>30000000</td>\n",
       "      <td>Toy Story</td>\n",
       "      <td>30000000.0</td>\n",
       "      <td>373554033.0</td>\n",
       "      <td>81.0</td>\n",
       "      <td>Toy Story</td>\n",
       "      <td>7.7</td>\n",
       "      <td>5415.0</td>\n",
       "      <td>Pixar Animation Studios</td>\n",
       "      <td>United States of America</td>\n",
       "      <td>Animation</td>\n",
       "      <td>1995</td>\n",
       "      <td>7514.0</td>\n",
       "      <td>MUSIC (Original Song)</td>\n",
       "      <td>Toy Story</td>\n",
       "      <td>False</td>\n",
       "    </tr>\n",
       "    <tr>\n",
       "      <th>tt0114709</th>\n",
       "      <td>30000000</td>\n",
       "      <td>Toy Story</td>\n",
       "      <td>30000000.0</td>\n",
       "      <td>373554033.0</td>\n",
       "      <td>81.0</td>\n",
       "      <td>Toy Story</td>\n",
       "      <td>7.7</td>\n",
       "      <td>5415.0</td>\n",
       "      <td>Pixar Animation Studios</td>\n",
       "      <td>United States of America</td>\n",
       "      <td>Animation</td>\n",
       "      <td>1995</td>\n",
       "      <td>7508.0</td>\n",
       "      <td>MUSIC (Original Musical or Comedy Score)</td>\n",
       "      <td>Toy Story</td>\n",
       "      <td>False</td>\n",
       "    </tr>\n",
       "    <tr>\n",
       "      <th>tt0113497</th>\n",
       "      <td>65000000</td>\n",
       "      <td>Jumanji</td>\n",
       "      <td>65000000.0</td>\n",
       "      <td>262797249.0</td>\n",
       "      <td>104.0</td>\n",
       "      <td>Jumanji</td>\n",
       "      <td>6.9</td>\n",
       "      <td>2413.0</td>\n",
       "      <td>TriStar Pictures</td>\n",
       "      <td>United States of America</td>\n",
       "      <td>Adventure</td>\n",
       "      <td>1995</td>\n",
       "      <td>NaN</td>\n",
       "      <td>None</td>\n",
       "      <td>None</td>\n",
       "      <td>None</td>\n",
       "    </tr>\n",
       "    <tr>\n",
       "      <th>tt0113228</th>\n",
       "      <td>0</td>\n",
       "      <td>Grumpier Old Men</td>\n",
       "      <td>0.0</td>\n",
       "      <td>0.0</td>\n",
       "      <td>101.0</td>\n",
       "      <td>Grumpier Old Men</td>\n",
       "      <td>6.5</td>\n",
       "      <td>92.0</td>\n",
       "      <td>Warner Bros.</td>\n",
       "      <td>United States of America</td>\n",
       "      <td>Romance</td>\n",
       "      <td>1995</td>\n",
       "      <td>NaN</td>\n",
       "      <td>None</td>\n",
       "      <td>None</td>\n",
       "      <td>None</td>\n",
       "    </tr>\n",
       "  </tbody>\n",
       "</table>\n",
       "</div>"
      ],
      "text/plain": [
       "             budget    original_title  popularity      revenue  runtime  \\\n",
       "imdb_id                                                                   \n",
       "tt0114709  30000000         Toy Story  30000000.0  373554033.0     81.0   \n",
       "tt0114709  30000000         Toy Story  30000000.0  373554033.0     81.0   \n",
       "tt0114709  30000000         Toy Story  30000000.0  373554033.0     81.0   \n",
       "tt0113497  65000000           Jumanji  65000000.0  262797249.0    104.0   \n",
       "tt0113228         0  Grumpier Old Men         0.0          0.0    101.0   \n",
       "\n",
       "                      title  vote_average  vote_count  \\\n",
       "imdb_id                                                 \n",
       "tt0114709         Toy Story           7.7      5415.0   \n",
       "tt0114709         Toy Story           7.7      5415.0   \n",
       "tt0114709         Toy Story           7.7      5415.0   \n",
       "tt0113497           Jumanji           6.9      2413.0   \n",
       "tt0113228  Grumpier Old Men           6.5        92.0   \n",
       "\n",
       "                        production                   country  new_genre  \\\n",
       "imdb_id                                                                   \n",
       "tt0114709  Pixar Animation Studios  United States of America  Animation   \n",
       "tt0114709  Pixar Animation Studios  United States of America  Animation   \n",
       "tt0114709  Pixar Animation Studios  United States of America  Animation   \n",
       "tt0113497         TriStar Pictures  United States of America  Adventure   \n",
       "tt0113228             Warner Bros.  United States of America    Romance   \n",
       "\n",
       "          Release_year   index  \\\n",
       "imdb_id                          \n",
       "tt0114709         1995  7548.0   \n",
       "tt0114709         1995  7514.0   \n",
       "tt0114709         1995  7508.0   \n",
       "tt0113497         1995     NaN   \n",
       "tt0113228         1995     NaN   \n",
       "\n",
       "                                                    category       film winner  \n",
       "imdb_id                                                                         \n",
       "tt0114709  WRITING (Screenplay Written Directly for the S...  Toy Story  False  \n",
       "tt0114709                              MUSIC (Original Song)  Toy Story  False  \n",
       "tt0114709           MUSIC (Original Musical or Comedy Score)  Toy Story  False  \n",
       "tt0113497                                               None       None   None  \n",
       "tt0113228                                               None       None   None  "
      ]
     },
     "execution_count": 20,
     "metadata": {},
     "output_type": "execute_result"
    }
   ],
   "source": [
    "#Set the index to IMDB_ID\n",
    "movie_us_df = movie_us_df.set_index(\"imdb_id\")\n",
    "movie_us_df.head()"
   ]
  },
  {
   "cell_type": "code",
   "execution_count": 21,
   "metadata": {},
   "outputs": [],
   "source": [
    "columns =['budget','original_title','popularity','revenue','runtime','vote_average','vote_count','production','country','new_genre','Release_year', 'winner']\n",
    "\n",
    "target = ['winner']"
   ]
  },
  {
   "cell_type": "code",
   "execution_count": 22,
   "metadata": {},
   "outputs": [
    {
     "data": {
      "text/plain": [
       "(22647, 12)"
      ]
     },
     "execution_count": 22,
     "metadata": {},
     "output_type": "execute_result"
    }
   ],
   "source": [
    "movie_us_df = movie_us_df.loc[:, columns].copy()\n",
    "movie_us_df.shape"
   ]
  },
  {
   "cell_type": "code",
   "execution_count": 23,
   "metadata": {},
   "outputs": [
    {
     "data": {
      "text/plain": [
       "(22647, 12)"
      ]
     },
     "execution_count": 23,
     "metadata": {},
     "output_type": "execute_result"
    }
   ],
   "source": [
    "#Convert winner column into numbers \n",
    "movie_us_df[\"winner\"] = movie_us_df[\"winner\"].replace({True: 1, False: 0})\n",
    "movie_us_df.shape"
   ]
  },
  {
   "cell_type": "code",
   "execution_count": 24,
   "metadata": {},
   "outputs": [
    {
     "data": {
      "text/plain": [
       "(22647, 12)"
      ]
     },
     "execution_count": 24,
     "metadata": {},
     "output_type": "execute_result"
    }
   ],
   "source": [
    "#Fill null values in winner column to zero \n",
    "movie_us_df[\"winner\"] = movie_us_df[\"winner\"].fillna(value=0)\n",
    "movie_us_df.shape"
   ]
  },
  {
   "cell_type": "code",
   "execution_count": 25,
   "metadata": {},
   "outputs": [],
   "source": [
    "# convert the 'Date' column to datetime format \n",
    "movie_us_df['Release_year'] = movie_us_df['Release_year'].astype('datetime64[ns]')"
   ]
  },
  {
   "cell_type": "code",
   "execution_count": 26,
   "metadata": {},
   "outputs": [
    {
     "data": {
      "text/plain": [
       "(22647, 12)"
      ]
     },
     "execution_count": 26,
     "metadata": {},
     "output_type": "execute_result"
    }
   ],
   "source": [
    "# Extract year from date \n",
    "movie_us_df['Release_year'] = pd.DatetimeIndex(movie_us_df['Release_year']).year\n",
    "movie_us_df.shape"
   ]
  },
  {
   "cell_type": "code",
   "execution_count": 27,
   "metadata": {},
   "outputs": [
    {
     "data": {
      "text/plain": [
       "(11828, 12)"
      ]
     },
     "execution_count": 27,
     "metadata": {},
     "output_type": "execute_result"
    }
   ],
   "source": [
    "# Filter all rows for movies from 1990\n",
    "movie_us_df = movie_us_df[movie_us_df['Release_year'] >= 1990] \n",
    "movie_us_df.shape"
   ]
  },
  {
   "cell_type": "code",
   "execution_count": 28,
   "metadata": {},
   "outputs": [],
   "source": [
    "# Drop the Release year after filtering the data.\n",
    "movie_us_df = movie_us_df.drop('Release_year',1)"
   ]
  },
  {
   "cell_type": "code",
   "execution_count": 30,
   "metadata": {},
   "outputs": [
    {
     "name": "stdout",
     "output_type": "stream",
     "text": [
      "<class 'pandas.core.frame.DataFrame'>\n",
      "Index: 11828 entries, tt0114709 to tt0303758\n",
      "Data columns (total 11 columns):\n",
      " #   Column          Non-Null Count  Dtype  \n",
      "---  ------          --------------  -----  \n",
      " 0   budget          11828 non-null  int64  \n",
      " 1   original_title  11828 non-null  object \n",
      " 2   popularity      11828 non-null  float64\n",
      " 3   revenue         11828 non-null  float64\n",
      " 4   runtime         11824 non-null  float64\n",
      " 5   vote_average    11828 non-null  float64\n",
      " 6   vote_count      11828 non-null  float64\n",
      " 7   production      11828 non-null  object \n",
      " 8   country         11828 non-null  object \n",
      " 9   new_genre       11828 non-null  object \n",
      " 10  winner          11828 non-null  float64\n",
      "dtypes: float64(6), int64(1), object(4)\n",
      "memory usage: 1.1+ MB\n"
     ]
    }
   ],
   "source": [
    "movie_us_df.info()"
   ]
  },
  {
   "cell_type": "code",
   "execution_count": 31,
   "metadata": {},
   "outputs": [
    {
     "data": {
      "text/html": [
       "<div>\n",
       "<style scoped>\n",
       "    .dataframe tbody tr th:only-of-type {\n",
       "        vertical-align: middle;\n",
       "    }\n",
       "\n",
       "    .dataframe tbody tr th {\n",
       "        vertical-align: top;\n",
       "    }\n",
       "\n",
       "    .dataframe thead th {\n",
       "        text-align: right;\n",
       "    }\n",
       "</style>\n",
       "<table border=\"1\" class=\"dataframe\">\n",
       "  <thead>\n",
       "    <tr style=\"text-align: right;\">\n",
       "      <th></th>\n",
       "      <th>original_title</th>\n",
       "    </tr>\n",
       "    <tr>\n",
       "      <th>imdb_id</th>\n",
       "      <th></th>\n",
       "    </tr>\n",
       "  </thead>\n",
       "  <tbody>\n",
       "    <tr>\n",
       "      <th>tt0114709</th>\n",
       "      <td>Toy Story</td>\n",
       "    </tr>\n",
       "    <tr>\n",
       "      <th>tt0114709</th>\n",
       "      <td>Toy Story</td>\n",
       "    </tr>\n",
       "    <tr>\n",
       "      <th>tt0114709</th>\n",
       "      <td>Toy Story</td>\n",
       "    </tr>\n",
       "    <tr>\n",
       "      <th>tt0113497</th>\n",
       "      <td>Jumanji</td>\n",
       "    </tr>\n",
       "    <tr>\n",
       "      <th>tt0113228</th>\n",
       "      <td>Grumpier Old Men</td>\n",
       "    </tr>\n",
       "  </tbody>\n",
       "</table>\n",
       "</div>"
      ],
      "text/plain": [
       "             original_title\n",
       "imdb_id                    \n",
       "tt0114709         Toy Story\n",
       "tt0114709         Toy Story\n",
       "tt0114709         Toy Story\n",
       "tt0113497           Jumanji\n",
       "tt0113228  Grumpier Old Men"
      ]
     },
     "execution_count": 31,
     "metadata": {},
     "output_type": "execute_result"
    }
   ],
   "source": [
    "# Create a title Dataframe.\n",
    "title_df=pd.DataFrame(data=movie_us_df['original_title'],index=movie_us_df.index,copy=True)\n",
    "title_df.head()"
   ]
  },
  {
   "cell_type": "code",
   "execution_count": 32,
   "metadata": {},
   "outputs": [
    {
     "data": {
      "text/html": [
       "<div>\n",
       "<style scoped>\n",
       "    .dataframe tbody tr th:only-of-type {\n",
       "        vertical-align: middle;\n",
       "    }\n",
       "\n",
       "    .dataframe tbody tr th {\n",
       "        vertical-align: top;\n",
       "    }\n",
       "\n",
       "    .dataframe thead th {\n",
       "        text-align: right;\n",
       "    }\n",
       "</style>\n",
       "<table border=\"1\" class=\"dataframe\">\n",
       "  <thead>\n",
       "    <tr style=\"text-align: right;\">\n",
       "      <th></th>\n",
       "      <th>budget</th>\n",
       "      <th>popularity</th>\n",
       "      <th>revenue</th>\n",
       "      <th>runtime</th>\n",
       "      <th>vote_average</th>\n",
       "      <th>vote_count</th>\n",
       "      <th>production</th>\n",
       "      <th>country</th>\n",
       "      <th>new_genre</th>\n",
       "      <th>winner</th>\n",
       "    </tr>\n",
       "    <tr>\n",
       "      <th>imdb_id</th>\n",
       "      <th></th>\n",
       "      <th></th>\n",
       "      <th></th>\n",
       "      <th></th>\n",
       "      <th></th>\n",
       "      <th></th>\n",
       "      <th></th>\n",
       "      <th></th>\n",
       "      <th></th>\n",
       "      <th></th>\n",
       "    </tr>\n",
       "  </thead>\n",
       "  <tbody>\n",
       "    <tr>\n",
       "      <th>tt0114709</th>\n",
       "      <td>30000000</td>\n",
       "      <td>30000000.0</td>\n",
       "      <td>373554033.0</td>\n",
       "      <td>81.0</td>\n",
       "      <td>7.7</td>\n",
       "      <td>5415.0</td>\n",
       "      <td>Pixar Animation Studios</td>\n",
       "      <td>United States of America</td>\n",
       "      <td>Animation</td>\n",
       "      <td>0.0</td>\n",
       "    </tr>\n",
       "    <tr>\n",
       "      <th>tt0114709</th>\n",
       "      <td>30000000</td>\n",
       "      <td>30000000.0</td>\n",
       "      <td>373554033.0</td>\n",
       "      <td>81.0</td>\n",
       "      <td>7.7</td>\n",
       "      <td>5415.0</td>\n",
       "      <td>Pixar Animation Studios</td>\n",
       "      <td>United States of America</td>\n",
       "      <td>Animation</td>\n",
       "      <td>0.0</td>\n",
       "    </tr>\n",
       "    <tr>\n",
       "      <th>tt0114709</th>\n",
       "      <td>30000000</td>\n",
       "      <td>30000000.0</td>\n",
       "      <td>373554033.0</td>\n",
       "      <td>81.0</td>\n",
       "      <td>7.7</td>\n",
       "      <td>5415.0</td>\n",
       "      <td>Pixar Animation Studios</td>\n",
       "      <td>United States of America</td>\n",
       "      <td>Animation</td>\n",
       "      <td>0.0</td>\n",
       "    </tr>\n",
       "    <tr>\n",
       "      <th>tt0113497</th>\n",
       "      <td>65000000</td>\n",
       "      <td>65000000.0</td>\n",
       "      <td>262797249.0</td>\n",
       "      <td>104.0</td>\n",
       "      <td>6.9</td>\n",
       "      <td>2413.0</td>\n",
       "      <td>TriStar Pictures</td>\n",
       "      <td>United States of America</td>\n",
       "      <td>Adventure</td>\n",
       "      <td>0.0</td>\n",
       "    </tr>\n",
       "    <tr>\n",
       "      <th>tt0113228</th>\n",
       "      <td>0</td>\n",
       "      <td>0.0</td>\n",
       "      <td>0.0</td>\n",
       "      <td>101.0</td>\n",
       "      <td>6.5</td>\n",
       "      <td>92.0</td>\n",
       "      <td>Warner Bros.</td>\n",
       "      <td>United States of America</td>\n",
       "      <td>Romance</td>\n",
       "      <td>0.0</td>\n",
       "    </tr>\n",
       "  </tbody>\n",
       "</table>\n",
       "</div>"
      ],
      "text/plain": [
       "             budget  popularity      revenue  runtime  vote_average  \\\n",
       "imdb_id                                                               \n",
       "tt0114709  30000000  30000000.0  373554033.0     81.0           7.7   \n",
       "tt0114709  30000000  30000000.0  373554033.0     81.0           7.7   \n",
       "tt0114709  30000000  30000000.0  373554033.0     81.0           7.7   \n",
       "tt0113497  65000000  65000000.0  262797249.0    104.0           6.9   \n",
       "tt0113228         0         0.0          0.0    101.0           6.5   \n",
       "\n",
       "           vote_count               production                   country  \\\n",
       "imdb_id                                                                    \n",
       "tt0114709      5415.0  Pixar Animation Studios  United States of America   \n",
       "tt0114709      5415.0  Pixar Animation Studios  United States of America   \n",
       "tt0114709      5415.0  Pixar Animation Studios  United States of America   \n",
       "tt0113497      2413.0         TriStar Pictures  United States of America   \n",
       "tt0113228        92.0             Warner Bros.  United States of America   \n",
       "\n",
       "           new_genre  winner  \n",
       "imdb_id                       \n",
       "tt0114709  Animation     0.0  \n",
       "tt0114709  Animation     0.0  \n",
       "tt0114709  Animation     0.0  \n",
       "tt0113497  Adventure     0.0  \n",
       "tt0113228    Romance     0.0  "
      ]
     },
     "execution_count": 32,
     "metadata": {},
     "output_type": "execute_result"
    }
   ],
   "source": [
    "# Remove the movie title from the dataframe\n",
    "movie_us_df = movie_us_df.drop('original_title',1)\n",
    "movie_us_df.head()"
   ]
  },
  {
   "cell_type": "code",
   "execution_count": 33,
   "metadata": {},
   "outputs": [
    {
     "data": {
      "text/plain": [
       "(11824, 10)"
      ]
     },
     "execution_count": 33,
     "metadata": {},
     "output_type": "execute_result"
    }
   ],
   "source": [
    "# Drop null rows\n",
    "movie_us_df = movie_us_df.dropna(axis = 0,how= 'any')\n",
    "movie_us_df.shape"
   ]
  },
  {
   "cell_type": "code",
   "execution_count": 34,
   "metadata": {},
   "outputs": [
    {
     "data": {
      "text/plain": [
       "production    3323\n",
       "country          1\n",
       "new_genre       20\n",
       "dtype: int64"
      ]
     },
     "execution_count": 34,
     "metadata": {},
     "output_type": "execute_result"
    }
   ],
   "source": [
    "# Generate our categorical variable list for movie dataset\n",
    "movie_cat = movie_us_df.dtypes[movie_us_df.dtypes == \"object\"].index.tolist()\n",
    "\n",
    "# Check the number of unique values in each column\n",
    "movie_us_df[movie_cat].nunique()"
   ]
  },
  {
   "cell_type": "markdown",
   "metadata": {},
   "source": [
    "### One Hot encoding production -Using top 10 values"
   ]
  },
  {
   "cell_type": "code",
   "execution_count": 35,
   "metadata": {},
   "outputs": [
    {
     "data": {
      "text/plain": [
       "Other                        1764\n",
       "Paramount Pictures            409\n",
       "Universal Pictures            318\n",
       "Columbia Pictures             283\n",
       "Walt Disney Pictures          247\n",
       "                             ... \n",
       "185 Trax                        1\n",
       "Rubber Tree Productions         1\n",
       "Applecreek Productions          1\n",
       "Lucky UKFS                      1\n",
       "Sound Venture Productions       1\n",
       "Name: production, Length: 3323, dtype: int64"
      ]
     },
     "execution_count": 35,
     "metadata": {},
     "output_type": "execute_result"
    }
   ],
   "source": [
    "# Check the production unique value counts to see if binning is required\n",
    "production_counts= movie_us_df.production.value_counts()\n",
    "production_counts"
   ]
  },
  {
   "cell_type": "code",
   "execution_count": 36,
   "metadata": {},
   "outputs": [
    {
     "data": {
      "text/plain": [
       "Other                                     9542\n",
       "Paramount Pictures                         409\n",
       "Universal Pictures                         318\n",
       "Columbia Pictures                          283\n",
       "Walt Disney Pictures                       247\n",
       "Twentieth Century Fox Film Corporation     216\n",
       "New Line Cinema                            212\n",
       "Miramax Films                              207\n",
       "Warner Bros.                               109\n",
       "TriStar Pictures                           108\n",
       "DreamWorks SKG                              93\n",
       "Fox Searchlight Pictures                    80\n",
       "Name: production, dtype: int64"
      ]
     },
     "execution_count": 36,
     "metadata": {},
     "output_type": "execute_result"
    }
   ],
   "source": [
    "# Determine which values to replace for bucketing\n",
    "replace_production = list(production_counts[production_counts < 80].index)\n",
    "\n",
    "# Replace in DataFrame\n",
    "for production in replace_production:\n",
    "    movie_us_df.production = movie_us_df.production.replace(production,\"Other\")\n",
    "\n",
    "\n",
    "# Check to make sure binning was successful\n",
    "movie_us_df.production.value_counts()"
   ]
  },
  {
   "cell_type": "code",
   "execution_count": 37,
   "metadata": {},
   "outputs": [
    {
     "data": {
      "text/plain": [
       "(11824, 30)"
      ]
     },
     "execution_count": 37,
     "metadata": {},
     "output_type": "execute_result"
    }
   ],
   "source": [
    "# let's examine how many columns we will obtain after one hot encoding these variables\n",
    "encode_df=pd.get_dummies(movie_us_df[movie_cat], drop_first=True)\n",
    "encode_df.shape"
   ]
  },
  {
   "cell_type": "code",
   "execution_count": 38,
   "metadata": {},
   "outputs": [
    {
     "data": {
      "text/html": [
       "<div>\n",
       "<style scoped>\n",
       "    .dataframe tbody tr th:only-of-type {\n",
       "        vertical-align: middle;\n",
       "    }\n",
       "\n",
       "    .dataframe tbody tr th {\n",
       "        vertical-align: top;\n",
       "    }\n",
       "\n",
       "    .dataframe thead th {\n",
       "        text-align: right;\n",
       "    }\n",
       "</style>\n",
       "<table border=\"1\" class=\"dataframe\">\n",
       "  <thead>\n",
       "    <tr style=\"text-align: right;\">\n",
       "      <th></th>\n",
       "      <th>budget</th>\n",
       "      <th>popularity</th>\n",
       "      <th>revenue</th>\n",
       "      <th>runtime</th>\n",
       "      <th>vote_average</th>\n",
       "      <th>vote_count</th>\n",
       "      <th>winner</th>\n",
       "      <th>production_DreamWorks SKG</th>\n",
       "      <th>production_Fox Searchlight Pictures</th>\n",
       "      <th>production_Miramax Films</th>\n",
       "      <th>...</th>\n",
       "      <th>new_genre_History</th>\n",
       "      <th>new_genre_Horror</th>\n",
       "      <th>new_genre_Music</th>\n",
       "      <th>new_genre_Mystery</th>\n",
       "      <th>new_genre_Romance</th>\n",
       "      <th>new_genre_Science Fiction</th>\n",
       "      <th>new_genre_TV Movie</th>\n",
       "      <th>new_genre_Thriller</th>\n",
       "      <th>new_genre_War</th>\n",
       "      <th>new_genre_Western</th>\n",
       "    </tr>\n",
       "    <tr>\n",
       "      <th>imdb_id</th>\n",
       "      <th></th>\n",
       "      <th></th>\n",
       "      <th></th>\n",
       "      <th></th>\n",
       "      <th></th>\n",
       "      <th></th>\n",
       "      <th></th>\n",
       "      <th></th>\n",
       "      <th></th>\n",
       "      <th></th>\n",
       "      <th></th>\n",
       "      <th></th>\n",
       "      <th></th>\n",
       "      <th></th>\n",
       "      <th></th>\n",
       "      <th></th>\n",
       "      <th></th>\n",
       "      <th></th>\n",
       "      <th></th>\n",
       "      <th></th>\n",
       "      <th></th>\n",
       "    </tr>\n",
       "  </thead>\n",
       "  <tbody>\n",
       "    <tr>\n",
       "      <th>tt0035423</th>\n",
       "      <td>0</td>\n",
       "      <td>0.0</td>\n",
       "      <td>0.0</td>\n",
       "      <td>118.0</td>\n",
       "      <td>6.0</td>\n",
       "      <td>430.0</td>\n",
       "      <td>0.0</td>\n",
       "      <td>0</td>\n",
       "      <td>0</td>\n",
       "      <td>1</td>\n",
       "      <td>...</td>\n",
       "      <td>0</td>\n",
       "      <td>0</td>\n",
       "      <td>0</td>\n",
       "      <td>0</td>\n",
       "      <td>0</td>\n",
       "      <td>0</td>\n",
       "      <td>0</td>\n",
       "      <td>0</td>\n",
       "      <td>0</td>\n",
       "      <td>0</td>\n",
       "    </tr>\n",
       "    <tr>\n",
       "      <th>tt0081145</th>\n",
       "      <td>0</td>\n",
       "      <td>0.0</td>\n",
       "      <td>0.0</td>\n",
       "      <td>94.0</td>\n",
       "      <td>0.0</td>\n",
       "      <td>0.0</td>\n",
       "      <td>0.0</td>\n",
       "      <td>0</td>\n",
       "      <td>0</td>\n",
       "      <td>0</td>\n",
       "      <td>...</td>\n",
       "      <td>0</td>\n",
       "      <td>0</td>\n",
       "      <td>0</td>\n",
       "      <td>0</td>\n",
       "      <td>0</td>\n",
       "      <td>0</td>\n",
       "      <td>0</td>\n",
       "      <td>0</td>\n",
       "      <td>0</td>\n",
       "      <td>0</td>\n",
       "    </tr>\n",
       "  </tbody>\n",
       "</table>\n",
       "<p>2 rows × 37 columns</p>\n",
       "</div>"
      ],
      "text/plain": [
       "           budget  popularity  revenue  runtime  vote_average  vote_count  \\\n",
       "imdb_id                                                                     \n",
       "tt0035423       0         0.0      0.0    118.0           6.0       430.0   \n",
       "tt0081145       0         0.0      0.0     94.0           0.0         0.0   \n",
       "\n",
       "           winner  production_DreamWorks SKG  \\\n",
       "imdb_id                                        \n",
       "tt0035423     0.0                          0   \n",
       "tt0081145     0.0                          0   \n",
       "\n",
       "           production_Fox Searchlight Pictures  production_Miramax Films  ...  \\\n",
       "imdb_id                                                                   ...   \n",
       "tt0035423                                    0                         1  ...   \n",
       "tt0081145                                    0                         0  ...   \n",
       "\n",
       "           new_genre_History  new_genre_Horror  new_genre_Music  \\\n",
       "imdb_id                                                           \n",
       "tt0035423                  0                 0                0   \n",
       "tt0081145                  0                 0                0   \n",
       "\n",
       "           new_genre_Mystery  new_genre_Romance  new_genre_Science Fiction  \\\n",
       "imdb_id                                                                      \n",
       "tt0035423                  0                  0                          0   \n",
       "tt0081145                  0                  0                          0   \n",
       "\n",
       "           new_genre_TV Movie  new_genre_Thriller  new_genre_War  \\\n",
       "imdb_id                                                            \n",
       "tt0035423                   0                   0              0   \n",
       "tt0081145                   0                   0              0   \n",
       "\n",
       "           new_genre_Western  \n",
       "imdb_id                       \n",
       "tt0035423                  0  \n",
       "tt0081145                  0  \n",
       "\n",
       "[2 rows x 37 columns]"
      ]
     },
     "execution_count": 38,
     "metadata": {},
     "output_type": "execute_result"
    }
   ],
   "source": [
    "# Merge one-hot encoded features and drop the originals\n",
    "oscar_us_df = movie_us_df.merge(encode_df,left_index=True, right_index=True)\n",
    "oscar_us_df = oscar_us_df.drop(movie_cat,1)\n",
    "#oscar_us_df = oscar_us_df.drop('Release_year',1)\n",
    "oscar_us_df.head(2)"
   ]
  },
  {
   "cell_type": "markdown",
   "metadata": {},
   "source": [
    "### Classification (RandomForestClassification)"
   ]
  },
  {
   "cell_type": "code",
   "execution_count": 39,
   "metadata": {},
   "outputs": [
    {
     "data": {
      "text/plain": [
       "(19904, 36)"
      ]
     },
     "execution_count": 39,
     "metadata": {},
     "output_type": "execute_result"
    }
   ],
   "source": [
    "# Define the features set.\n",
    "X = oscar_us_df.copy()\n",
    "X = X.drop('winner', axis=1)\n",
    "X.shape"
   ]
  },
  {
   "cell_type": "code",
   "execution_count": 40,
   "metadata": {},
   "outputs": [
    {
     "data": {
      "text/plain": [
       "imdb_id\n",
       "tt0035423    0.0\n",
       "tt0081145    0.0\n",
       "Name: winner, dtype: float64"
      ]
     },
     "execution_count": 40,
     "metadata": {},
     "output_type": "execute_result"
    }
   ],
   "source": [
    "# Define the target set(output label)\n",
    "y = oscar_us_df['winner']\n",
    "y.head(2)"
   ]
  },
  {
   "cell_type": "code",
   "execution_count": 41,
   "metadata": {},
   "outputs": [],
   "source": [
    "# Splitting into Train and Test sets.\n",
    "X_train, X_test, y_train, y_test = train_test_split(X, y, random_state=78)"
   ]
  },
  {
   "cell_type": "code",
   "execution_count": 42,
   "metadata": {},
   "outputs": [],
   "source": [
    "# Creating a StandardScaler instance.\n",
    "scaler = StandardScaler()"
   ]
  },
  {
   "cell_type": "code",
   "execution_count": 43,
   "metadata": {},
   "outputs": [],
   "source": [
    "# Fitting the Standard Scaler with the training data.\n",
    "X_scaler = scaler.fit(X_train)"
   ]
  },
  {
   "cell_type": "code",
   "execution_count": 44,
   "metadata": {},
   "outputs": [],
   "source": [
    "# Scaling the data.\n",
    "X_train_scaled = X_scaler.transform(X_train)\n",
    "X_test_scaled = X_scaler.transform(X_test)"
   ]
  },
  {
   "cell_type": "code",
   "execution_count": 45,
   "metadata": {},
   "outputs": [],
   "source": [
    "# Create a random forest classifier.\n",
    "#rf_model = RandomForestClassifier(n_estimators=128, random_state=78) \n",
    "rf_model = RandomForestClassifier(n_estimators=500, random_state=78)"
   ]
  },
  {
   "cell_type": "code",
   "execution_count": 46,
   "metadata": {},
   "outputs": [],
   "source": [
    "# Fitting the model\n",
    "rf_model = rf_model.fit(X_train_scaled, y_train)"
   ]
  },
  {
   "cell_type": "code",
   "execution_count": 47,
   "metadata": {},
   "outputs": [
    {
     "data": {
      "text/plain": [
       "array([0., 0., 0., ..., 0., 0., 0.])"
      ]
     },
     "execution_count": 47,
     "metadata": {},
     "output_type": "execute_result"
    }
   ],
   "source": [
    "# Making predictions using the testing data.\n",
    "predictions = rf_model.predict(X_test_scaled)\n",
    "predictions"
   ]
  },
  {
   "cell_type": "code",
   "execution_count": 48,
   "metadata": {},
   "outputs": [
    {
     "data": {
      "text/html": [
       "<div>\n",
       "<style scoped>\n",
       "    .dataframe tbody tr th:only-of-type {\n",
       "        vertical-align: middle;\n",
       "    }\n",
       "\n",
       "    .dataframe tbody tr th {\n",
       "        vertical-align: top;\n",
       "    }\n",
       "\n",
       "    .dataframe thead th {\n",
       "        text-align: right;\n",
       "    }\n",
       "</style>\n",
       "<table border=\"1\" class=\"dataframe\">\n",
       "  <thead>\n",
       "    <tr style=\"text-align: right;\">\n",
       "      <th></th>\n",
       "      <th>Predicted 0</th>\n",
       "      <th>Predicted 1</th>\n",
       "    </tr>\n",
       "  </thead>\n",
       "  <tbody>\n",
       "    <tr>\n",
       "      <th>Actual 0</th>\n",
       "      <td>4143</td>\n",
       "      <td>156</td>\n",
       "    </tr>\n",
       "    <tr>\n",
       "      <th>Actual 1</th>\n",
       "      <td>444</td>\n",
       "      <td>233</td>\n",
       "    </tr>\n",
       "  </tbody>\n",
       "</table>\n",
       "</div>"
      ],
      "text/plain": [
       "          Predicted 0  Predicted 1\n",
       "Actual 0         4143          156\n",
       "Actual 1          444          233"
      ]
     },
     "execution_count": 48,
     "metadata": {},
     "output_type": "execute_result"
    }
   ],
   "source": [
    "# Calculating the confusion matrix.\n",
    "cm = confusion_matrix(y_test, predictions)\n",
    "\n",
    "# Create a DataFrame from the confusion matrix.\n",
    "cm_df = pd.DataFrame(\n",
    "    cm, index=[\"Actual 0\", \"Actual 1\"], columns=[\"Predicted 0\", \"Predicted 1\"])\n",
    "\n",
    "cm_df"
   ]
  },
  {
   "cell_type": "code",
   "execution_count": 49,
   "metadata": {},
   "outputs": [
    {
     "data": {
      "text/plain": [
       "0.8794212218649518"
      ]
     },
     "execution_count": 49,
     "metadata": {},
     "output_type": "execute_result"
    }
   ],
   "source": [
    "# Calculating the accuracy score.\n",
    "acc_score = accuracy_score(y_test, predictions)\n",
    "acc_score"
   ]
  },
  {
   "cell_type": "code",
   "execution_count": 50,
   "metadata": {},
   "outputs": [
    {
     "name": "stdout",
     "output_type": "stream",
     "text": [
      "Confusion Matrix\n"
     ]
    },
    {
     "data": {
      "text/html": [
       "<div>\n",
       "<style scoped>\n",
       "    .dataframe tbody tr th:only-of-type {\n",
       "        vertical-align: middle;\n",
       "    }\n",
       "\n",
       "    .dataframe tbody tr th {\n",
       "        vertical-align: top;\n",
       "    }\n",
       "\n",
       "    .dataframe thead th {\n",
       "        text-align: right;\n",
       "    }\n",
       "</style>\n",
       "<table border=\"1\" class=\"dataframe\">\n",
       "  <thead>\n",
       "    <tr style=\"text-align: right;\">\n",
       "      <th></th>\n",
       "      <th>Predicted 0</th>\n",
       "      <th>Predicted 1</th>\n",
       "    </tr>\n",
       "  </thead>\n",
       "  <tbody>\n",
       "    <tr>\n",
       "      <th>Actual 0</th>\n",
       "      <td>4143</td>\n",
       "      <td>156</td>\n",
       "    </tr>\n",
       "    <tr>\n",
       "      <th>Actual 1</th>\n",
       "      <td>444</td>\n",
       "      <td>233</td>\n",
       "    </tr>\n",
       "  </tbody>\n",
       "</table>\n",
       "</div>"
      ],
      "text/plain": [
       "          Predicted 0  Predicted 1\n",
       "Actual 0         4143          156\n",
       "Actual 1          444          233"
      ]
     },
     "metadata": {},
     "output_type": "display_data"
    },
    {
     "name": "stdout",
     "output_type": "stream",
     "text": [
      "Accuracy Score : 0.8794212218649518\n",
      "Classification Report\n",
      "              precision    recall  f1-score   support\n",
      "\n",
      "         0.0       0.90      0.96      0.93      4299\n",
      "         1.0       0.60      0.34      0.44       677\n",
      "\n",
      "    accuracy                           0.88      4976\n",
      "   macro avg       0.75      0.65      0.68      4976\n",
      "weighted avg       0.86      0.88      0.87      4976\n",
      "\n"
     ]
    }
   ],
   "source": [
    "# Displaying results\n",
    "print(\"Confusion Matrix\")\n",
    "display(cm_df)\n",
    "print(f\"Accuracy Score : {acc_score}\")\n",
    "print(\"Classification Report\")\n",
    "print(classification_report(y_test, predictions))"
   ]
  },
  {
   "cell_type": "code",
   "execution_count": 51,
   "metadata": {},
   "outputs": [
    {
     "data": {
      "text/plain": [
       "array([9.33595009e-02, 9.15798275e-02, 1.52665869e-01, 1.77077639e-01,\n",
       "       1.43205650e-01, 1.84338548e-01, 3.11525578e-03, 2.22103676e-03,\n",
       "       1.47627058e-02, 2.12728499e-03, 1.70631741e-02, 1.57597967e-02,\n",
       "       1.82047777e-03, 6.86745727e-03, 4.46546976e-03, 3.50832681e-03,\n",
       "       1.71917787e-03, 1.25803911e-02, 9.63753593e-03, 7.08878473e-03,\n",
       "       4.60398302e-03, 3.67483988e-03, 1.81342854e-02, 1.03718725e-03,\n",
       "       3.60643551e-03, 9.39261715e-07, 1.01484362e-03, 2.55836743e-03,\n",
       "       2.37214699e-03, 1.74273456e-03, 3.49612584e-03, 1.28336432e-03,\n",
       "       4.86652663e-03, 5.09271749e-03, 3.76341523e-04, 1.17525189e-03])"
      ]
     },
     "execution_count": 51,
     "metadata": {},
     "output_type": "execute_result"
    }
   ],
   "source": [
    "# Calculate feature importance in the Random Forest model.\n",
    "importances = rf_model.feature_importances_\n",
    "importances"
   ]
  },
  {
   "cell_type": "code",
   "execution_count": 52,
   "metadata": {},
   "outputs": [
    {
     "data": {
      "text/plain": [
       "[(0.18433854764705956, 'vote_count'),\n",
       " (0.17707763906416982, 'runtime'),\n",
       " (0.1526658689885408, 'revenue'),\n",
       " (0.14320564995753832, 'vote_average'),\n",
       " (0.09335950087750435, 'budget'),\n",
       " (0.0915798275071942, 'popularity'),\n",
       " (0.018134285442311326, 'new_genre_Drama'),\n",
       " (0.01706317405537106, 'production_Other'),\n",
       " (0.015759796686668232, 'production_Paramount Pictures'),\n",
       " (0.014762705755839281, 'production_Miramax Films'),\n",
       " (0.012580391116892756, 'new_genre_Adventure'),\n",
       " (0.009637535934967195, 'new_genre_Animation'),\n",
       " (0.007088784726072476, 'new_genre_Comedy'),\n",
       " (0.006867457267840792, 'production_Twentieth Century Fox Film Corporation'),\n",
       " (0.005092717494977402, 'new_genre_Thriller'),\n",
       " (0.004866526625871406, 'new_genre_TV Movie'),\n",
       " (0.004603983022653402, 'new_genre_Crime'),\n",
       " (0.004465469764734304, 'production_Universal Pictures'),\n",
       " (0.003674839877651176, 'new_genre_Documentary'),\n",
       " (0.0036064355084154745, 'new_genre_Fantasy'),\n",
       " (0.003508326813961853, 'production_Walt Disney Pictures'),\n",
       " (0.003496125841329431, 'new_genre_Romance'),\n",
       " (0.0031152557807900758, 'production_DreamWorks SKG'),\n",
       " (0.0025583674332494786, 'new_genre_Horror'),\n",
       " (0.0023721469868943014, 'new_genre_Music'),\n",
       " (0.0022210367630945897, 'production_Fox Searchlight Pictures'),\n",
       " (0.0021272849854909394, 'production_New Line Cinema'),\n",
       " (0.0018204777684541985, 'production_TriStar Pictures'),\n",
       " (0.0017427345616707764, 'new_genre_Mystery'),\n",
       " (0.001719177870080915, 'production_Warner Bros.'),\n",
       " (0.0012833643210387476, 'new_genre_Science Fiction'),\n",
       " (0.0011752518924362217, 'new_genre_Western'),\n",
       " (0.0010371872523101215, 'new_genre_Family'),\n",
       " (0.001014843621732392, 'new_genre_History'),\n",
       " (0.00037634152347731264, 'new_genre_War'),\n",
       " (9.392617153791387e-07, 'new_genre_Foreign')]"
      ]
     },
     "execution_count": 52,
     "metadata": {},
     "output_type": "execute_result"
    }
   ],
   "source": [
    "# We can sort the features by their importance.\n",
    "sorted(zip(rf_model.feature_importances_, X.columns), reverse=True)"
   ]
  }
 ],
 "metadata": {
  "kernelspec": {
   "display_name": "PythonData",
   "language": "python",
   "name": "pythondata"
  },
  "language_info": {
   "codemirror_mode": {
    "name": "ipython",
    "version": 3
   },
   "file_extension": ".py",
   "mimetype": "text/x-python",
   "name": "python",
   "nbconvert_exporter": "python",
   "pygments_lexer": "ipython3",
   "version": "3.6.10"
  }
 },
 "nbformat": 4,
 "nbformat_minor": 4
}
