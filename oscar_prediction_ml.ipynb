{
 "cells": [
  {
   "cell_type": "code",
   "execution_count": 1,
   "metadata": {},
   "outputs": [],
   "source": [
    "#Add Dependencies\n",
    "import pandas as pd\n",
    "import psycopg2 as pg\n",
    "from sklearn.model_selection import train_test_split\n",
    "from sklearn.preprocessing import StandardScaler\n",
    "from sklearn.linear_model import LogisticRegression\n",
    "from sklearn.preprocessing import OneHotEncoder\n",
    "from sklearn.metrics import accuracy_score"
   ]
  },
  {
   "cell_type": "markdown",
   "metadata": {},
   "source": [
    "### Connection to the Postgres database and Retrive data from the tables"
   ]
  },
  {
   "cell_type": "code",
   "execution_count": 2,
   "metadata": {},
   "outputs": [],
   "source": [
    "#Read Data from the PostgressSql\n",
    "conn = pg.connect(user = \"postgres\",\n",
    "                                  password = \"akshaj10\",\n",
    "                                  host = \"127.0.0.1\",\n",
    "                                  port = \"5432\",\n",
    "                                  database = \"movie_data\")\n",
    "sql1 = \"Select * From movies;\"\n",
    "sql2 = \"Select * From sherlock_ratings;\"\n",
    "movie_df = pd.read_sql_query(sql1, conn)\n",
    "rating_df = pd.read_sql_query(sql2, conn)\n",
    "conn = None\n"
   ]
  },
  {
   "cell_type": "code",
   "execution_count": 3,
   "metadata": {},
   "outputs": [
    {
     "data": {
      "text/plain": [
       "(6051, 37)"
      ]
     },
     "execution_count": 3,
     "metadata": {},
     "output_type": "execute_result"
    }
   ],
   "source": [
    "#Load Data into Pandas Data frame and Display the dataframe.\n",
    "movie_df.shape"
   ]
  },
  {
   "cell_type": "markdown",
   "metadata": {},
   "source": [
    "#### Data Clean Up ,Preprocessing and Filtering"
   ]
  },
  {
   "cell_type": "code",
   "execution_count": 4,
   "metadata": {},
   "outputs": [
    {
     "data": {
      "text/plain": [
       "(237, 37)"
      ]
     },
     "execution_count": 4,
     "metadata": {},
     "output_type": "execute_result"
    }
   ],
   "source": [
    "# Drop null rows\n",
    "movie_df = movie_df.dropna(axis = 0,how= 'any')\n",
    "movie_df.shape"
   ]
  },
  {
   "cell_type": "code",
   "execution_count": 5,
   "metadata": {},
   "outputs": [
    {
     "data": {
      "text/html": [
       "<div>\n",
       "<style scoped>\n",
       "    .dataframe tbody tr th:only-of-type {\n",
       "        vertical-align: middle;\n",
       "    }\n",
       "\n",
       "    .dataframe tbody tr th {\n",
       "        vertical-align: top;\n",
       "    }\n",
       "\n",
       "    .dataframe thead th {\n",
       "        text-align: right;\n",
       "    }\n",
       "</style>\n",
       "<table border=\"1\" class=\"dataframe\">\n",
       "  <thead>\n",
       "    <tr style=\"text-align: right;\">\n",
       "      <th></th>\n",
       "      <th>index</th>\n",
       "      <th>wikipedia_url</th>\n",
       "      <th>year</th>\n",
       "      <th>imdb_link</th>\n",
       "      <th>based_on</th>\n",
       "      <th>starring</th>\n",
       "      <th>cinematography</th>\n",
       "      <th>country</th>\n",
       "      <th>director</th>\n",
       "      <th>distributor</th>\n",
       "      <th>...</th>\n",
       "      <th>release_date</th>\n",
       "      <th>revenue</th>\n",
       "      <th>runtime</th>\n",
       "      <th>spoken_languages</th>\n",
       "      <th>status</th>\n",
       "      <th>tagline</th>\n",
       "      <th>title</th>\n",
       "      <th>video</th>\n",
       "      <th>vote_average</th>\n",
       "      <th>vote_count</th>\n",
       "    </tr>\n",
       "  </thead>\n",
       "  <tbody>\n",
       "    <tr>\n",
       "      <th>92</th>\n",
       "      <td>90</td>\n",
       "      <td>https://en.wikipedia.org/wiki/The_Hunt_for_Red...</td>\n",
       "      <td>1990</td>\n",
       "      <td>https://www.imdb.com/title/tt0099810/</td>\n",
       "      <td>{\"The Hunt for Red October\",by,\"Tom Clancy\"}</td>\n",
       "      <td>{\"Sean Connery\",\"Alec Baldwin\",\"Scott Glenn\",\"...</td>\n",
       "      <td>Jan de Bont</td>\n",
       "      <td>United States</td>\n",
       "      <td>John McTiernan</td>\n",
       "      <td>Paramount Pictures</td>\n",
       "      <td>...</td>\n",
       "      <td>1990-03-02</td>\n",
       "      <td>199200000.0</td>\n",
       "      <td>134.0</td>\n",
       "      <td>[{'iso_639_1': 'en', 'name': 'English'}, {'iso...</td>\n",
       "      <td>Released</td>\n",
       "      <td>Invisible. Silent. Stolen.</td>\n",
       "      <td>The Hunt for Red October</td>\n",
       "      <td>False</td>\n",
       "      <td>7.2</td>\n",
       "      <td>971.0</td>\n",
       "    </tr>\n",
       "    <tr>\n",
       "      <th>662</th>\n",
       "      <td>653</td>\n",
       "      <td>https://en.wikipedia.org/wiki/Jurassic_Park_(f...</td>\n",
       "      <td>1993</td>\n",
       "      <td>https://www.imdb.com/title/tt0107290/</td>\n",
       "      <td>{\"Jurassic Park\",\"by Michael Crichton\"}</td>\n",
       "      <td>{\"Sam Neill\",\"Laura Dern\",\"Jeff Goldblum\",\"Ric...</td>\n",
       "      <td>Dean Cundey</td>\n",
       "      <td>United States</td>\n",
       "      <td>Steven Spielberg</td>\n",
       "      <td>Universal Pictures</td>\n",
       "      <td>...</td>\n",
       "      <td>1993-06-11</td>\n",
       "      <td>920100000.0</td>\n",
       "      <td>127.0</td>\n",
       "      <td>[{'iso_639_1': 'en', 'name': 'English'}, {'iso...</td>\n",
       "      <td>Released</td>\n",
       "      <td>An adventure 65 million years in the making.</td>\n",
       "      <td>Jurassic Park</td>\n",
       "      <td>False</td>\n",
       "      <td>7.6</td>\n",
       "      <td>4956.0</td>\n",
       "    </tr>\n",
       "    <tr>\n",
       "      <th>1324</th>\n",
       "      <td>1309</td>\n",
       "      <td>https://en.wikipedia.org/wiki/Escape_from_L.A.</td>\n",
       "      <td>1996</td>\n",
       "      <td>https://www.imdb.com/title/tt0116225/</td>\n",
       "      <td>{\"Characters created by\",\"John Carpenter\",\"Nic...</td>\n",
       "      <td>{\"Kurt Russell\",\"Stacy Keach\",\"Steve Buscemi\",...</td>\n",
       "      <td>Gary B. Kibbe</td>\n",
       "      <td>United States</td>\n",
       "      <td>John Carpenter</td>\n",
       "      <td>Paramount Pictures</td>\n",
       "      <td>...</td>\n",
       "      <td>1996-08-09</td>\n",
       "      <td>42277365.0</td>\n",
       "      <td>97.0</td>\n",
       "      <td>[{'iso_639_1': 'en', 'name': 'English'}]</td>\n",
       "      <td>Released</td>\n",
       "      <td>Snake Is Back.</td>\n",
       "      <td>Escape from L.A.</td>\n",
       "      <td>False</td>\n",
       "      <td>5.6</td>\n",
       "      <td>381.0</td>\n",
       "    </tr>\n",
       "    <tr>\n",
       "      <th>1425</th>\n",
       "      <td>1415</td>\n",
       "      <td>https://en.wikipedia.org/wiki/Mission:_Impossi...</td>\n",
       "      <td>1996</td>\n",
       "      <td>https://www.imdb.com/title/tt0117060/</td>\n",
       "      <td>{\"Mission: Impossible\",by,\"Bruce Geller\"}</td>\n",
       "      <td>{\"Tom Cruise\",\"Jon Voight\",\"Henry Czerny\",\"Emm...</td>\n",
       "      <td>Stephen H. Burum</td>\n",
       "      <td>United States</td>\n",
       "      <td>Brian De Palma</td>\n",
       "      <td>Paramount Pictures</td>\n",
       "      <td>...</td>\n",
       "      <td>1996-05-22</td>\n",
       "      <td>457696359.0</td>\n",
       "      <td>110.0</td>\n",
       "      <td>[{'iso_639_1': 'en', 'name': 'English'}, {'iso...</td>\n",
       "      <td>Released</td>\n",
       "      <td>Expect the Impossible.</td>\n",
       "      <td>Mission: Impossible</td>\n",
       "      <td>False</td>\n",
       "      <td>6.7</td>\n",
       "      <td>2677.0</td>\n",
       "    </tr>\n",
       "    <tr>\n",
       "      <th>1481</th>\n",
       "      <td>1472</td>\n",
       "      <td>https://en.wikipedia.org/wiki/Star_Trek:_First...</td>\n",
       "      <td>1996</td>\n",
       "      <td>https://www.imdb.com/title/tt0117731/</td>\n",
       "      <td>{\"Star Trek\",by,\"Gene Roddenberry\"}</td>\n",
       "      <td>{\"Patrick Stewart\",\"Jonathan Frakes\",\"Brent Sp...</td>\n",
       "      <td>Matthew F. Leonetti</td>\n",
       "      <td>United States</td>\n",
       "      <td>Jonathan Frakes</td>\n",
       "      <td>Paramount Pictures</td>\n",
       "      <td>...</td>\n",
       "      <td>1996-11-21</td>\n",
       "      <td>150000000.0</td>\n",
       "      <td>111.0</td>\n",
       "      <td>[{'iso_639_1': 'en', 'name': 'English'}]</td>\n",
       "      <td>Released</td>\n",
       "      <td>Resistance is futile.</td>\n",
       "      <td>Star Trek: First Contact</td>\n",
       "      <td>False</td>\n",
       "      <td>7.0</td>\n",
       "      <td>671.0</td>\n",
       "    </tr>\n",
       "  </tbody>\n",
       "</table>\n",
       "<p>5 rows × 37 columns</p>\n",
       "</div>"
      ],
      "text/plain": [
       "      index                                      wikipedia_url  year  \\\n",
       "92       90  https://en.wikipedia.org/wiki/The_Hunt_for_Red...  1990   \n",
       "662     653  https://en.wikipedia.org/wiki/Jurassic_Park_(f...  1993   \n",
       "1324   1309     https://en.wikipedia.org/wiki/Escape_from_L.A.  1996   \n",
       "1425   1415  https://en.wikipedia.org/wiki/Mission:_Impossi...  1996   \n",
       "1481   1472  https://en.wikipedia.org/wiki/Star_Trek:_First...  1996   \n",
       "\n",
       "                                  imdb_link  \\\n",
       "92    https://www.imdb.com/title/tt0099810/   \n",
       "662   https://www.imdb.com/title/tt0107290/   \n",
       "1324  https://www.imdb.com/title/tt0116225/   \n",
       "1425  https://www.imdb.com/title/tt0117060/   \n",
       "1481  https://www.imdb.com/title/tt0117731/   \n",
       "\n",
       "                                               based_on  \\\n",
       "92         {\"The Hunt for Red October\",by,\"Tom Clancy\"}   \n",
       "662             {\"Jurassic Park\",\"by Michael Crichton\"}   \n",
       "1324  {\"Characters created by\",\"John Carpenter\",\"Nic...   \n",
       "1425          {\"Mission: Impossible\",by,\"Bruce Geller\"}   \n",
       "1481                {\"Star Trek\",by,\"Gene Roddenberry\"}   \n",
       "\n",
       "                                               starring       cinematography  \\\n",
       "92    {\"Sean Connery\",\"Alec Baldwin\",\"Scott Glenn\",\"...          Jan de Bont   \n",
       "662   {\"Sam Neill\",\"Laura Dern\",\"Jeff Goldblum\",\"Ric...          Dean Cundey   \n",
       "1324  {\"Kurt Russell\",\"Stacy Keach\",\"Steve Buscemi\",...        Gary B. Kibbe   \n",
       "1425  {\"Tom Cruise\",\"Jon Voight\",\"Henry Czerny\",\"Emm...     Stephen H. Burum   \n",
       "1481  {\"Patrick Stewart\",\"Jonathan Frakes\",\"Brent Sp...  Matthew F. Leonetti   \n",
       "\n",
       "            country          director         distributor  ... release_date  \\\n",
       "92    United States    John McTiernan  Paramount Pictures  ...   1990-03-02   \n",
       "662   United States  Steven Spielberg  Universal Pictures  ...   1993-06-11   \n",
       "1324  United States    John Carpenter  Paramount Pictures  ...   1996-08-09   \n",
       "1425  United States    Brian De Palma  Paramount Pictures  ...   1996-05-22   \n",
       "1481  United States   Jonathan Frakes  Paramount Pictures  ...   1996-11-21   \n",
       "\n",
       "          revenue runtime                                   spoken_languages  \\\n",
       "92    199200000.0   134.0  [{'iso_639_1': 'en', 'name': 'English'}, {'iso...   \n",
       "662   920100000.0   127.0  [{'iso_639_1': 'en', 'name': 'English'}, {'iso...   \n",
       "1324   42277365.0    97.0           [{'iso_639_1': 'en', 'name': 'English'}]   \n",
       "1425  457696359.0   110.0  [{'iso_639_1': 'en', 'name': 'English'}, {'iso...   \n",
       "1481  150000000.0   111.0           [{'iso_639_1': 'en', 'name': 'English'}]   \n",
       "\n",
       "        status                                       tagline  \\\n",
       "92    Released                    Invisible. Silent. Stolen.   \n",
       "662   Released  An adventure 65 million years in the making.   \n",
       "1324  Released                                Snake Is Back.   \n",
       "1425  Released                        Expect the Impossible.   \n",
       "1481  Released                         Resistance is futile.   \n",
       "\n",
       "                         title  video vote_average  vote_count  \n",
       "92    The Hunt for Red October  False          7.2       971.0  \n",
       "662              Jurassic Park  False          7.6      4956.0  \n",
       "1324          Escape from L.A.  False          5.6       381.0  \n",
       "1425       Mission: Impossible  False          6.7      2677.0  \n",
       "1481  Star Trek: First Contact  False          7.0       671.0  \n",
       "\n",
       "[5 rows x 37 columns]"
      ]
     },
     "execution_count": 5,
     "metadata": {},
     "output_type": "execute_result"
    }
   ],
   "source": [
    "# Filter all rows for US as the country\n",
    " \n",
    "movie_us_df = movie_df[movie_df['country'] == 'United States'] \n",
    "movie_us_df.head(5)"
   ]
  },
  {
   "cell_type": "code",
   "execution_count": 6,
   "metadata": {},
   "outputs": [
    {
     "data": {
      "text/plain": [
       "wikipedia_url            186\n",
       "imdb_link                186\n",
       "based_on                 141\n",
       "starring                 185\n",
       "cinematography           115\n",
       "country                    1\n",
       "director                 144\n",
       "distributor               43\n",
       "editors                  158\n",
       "composers                 93\n",
       "producers                147\n",
       "writers                  164\n",
       "imdb_id                  186\n",
       "belongs_to_collection    115\n",
       "genres                   114\n",
       "homepage                 170\n",
       "original_language          1\n",
       "original_title           186\n",
       "overview                 186\n",
       "poster_path              186\n",
       "production_companies     172\n",
       "production_countries      25\n",
       "spoken_languages          48\n",
       "status                     1\n",
       "tagline                  184\n",
       "title                    186\n",
       "dtype: int64"
      ]
     },
     "execution_count": 6,
     "metadata": {},
     "output_type": "execute_result"
    }
   ],
   "source": [
    "# Generate our categorical variable list for movie dataset\n",
    "movie_cat = movie_us_df.dtypes[movie_us_df.dtypes == \"object\"].index.tolist()\n",
    "\n",
    "# Check the number of unique values in each column\n",
    "movie_us_df[movie_cat].nunique()"
   ]
  },
  {
   "cell_type": "code",
   "execution_count": 7,
   "metadata": {},
   "outputs": [
    {
     "data": {
      "text/plain": [
       "(486, 42)"
      ]
     },
     "execution_count": 7,
     "metadata": {},
     "output_type": "execute_result"
    }
   ],
   "source": [
    "#Data Clean rating dataset\n",
    "rating_df = rating_df.dropna(axis = 0,how= 'any')\n",
    "rating_df.shape"
   ]
  },
  {
   "cell_type": "code",
   "execution_count": 8,
   "metadata": {},
   "outputs": [
    {
     "data": {
      "text/plain": [
       "(386, 42)"
      ]
     },
     "execution_count": 8,
     "metadata": {},
     "output_type": "execute_result"
    }
   ],
   "source": [
    "# Filter all rows for US as the country\n",
    "rating_us_df = rating_df[rating_df['country'] == 'United States'] \n",
    "rating_us_df.shape"
   ]
  },
  {
   "cell_type": "code",
   "execution_count": 9,
   "metadata": {},
   "outputs": [
    {
     "data": {
      "text/plain": [
       "imdb_id                  386\n",
       "title                    385\n",
       "original_title           385\n",
       "tagline                  383\n",
       "belongs_to_collection    220\n",
       "wikipedia_url            386\n",
       "imdb_link                386\n",
       "genres                   200\n",
       "original_language          1\n",
       "overview                 386\n",
       "spoken_languages          80\n",
       "country                    1\n",
       "production_companies     331\n",
       "production_countries      34\n",
       "distributor               72\n",
       "producers                308\n",
       "director                 278\n",
       "starring                 384\n",
       "cinematography           211\n",
       "editors                  309\n",
       "writers                  335\n",
       "composers                157\n",
       "based_on                 291\n",
       "dtype: int64"
      ]
     },
     "execution_count": 9,
     "metadata": {},
     "output_type": "execute_result"
    }
   ],
   "source": [
    "# Generate our categorical variable list for movie dataset\n",
    "rating_cat = rating_us_df.dtypes[rating_us_df.dtypes == \"object\"].index.tolist()\n",
    "\n",
    "# Check the number of unique values in each column\n",
    "rating_us_df[rating_cat].nunique()"
   ]
  },
  {
   "cell_type": "code",
   "execution_count": 11,
   "metadata": {},
   "outputs": [
    {
     "data": {
      "text/plain": [
       "index                             int64\n",
       "imdb_id                          object\n",
       "kaggle_id                         int64\n",
       "title                            object\n",
       "original_title                   object\n",
       "tagline                          object\n",
       "belongs_to_collection            object\n",
       "wikipedia_url                    object\n",
       "imdb_link                        object\n",
       "runtime                         float64\n",
       "budget                          float64\n",
       "revenue                         float64\n",
       "release_date             datetime64[ns]\n",
       "popularity                      float64\n",
       "vote_average                    float64\n",
       "vote_count                      float64\n",
       "genres                           object\n",
       "original_language                object\n",
       "overview                         object\n",
       "spoken_languages                 object\n",
       "country                          object\n",
       "production_companies             object\n",
       "production_countries             object\n",
       "distributor                      object\n",
       "producers                        object\n",
       "director                         object\n",
       "starring                         object\n",
       "cinematography                   object\n",
       "editors                          object\n",
       "writers                          object\n",
       "composers                        object\n",
       "based_on                         object\n",
       "rating_0.5                      float64\n",
       "rating_1.0                      float64\n",
       "rating_1.5                      float64\n",
       "rating_2.0                      float64\n",
       "rating_2.5                      float64\n",
       "rating_3.0                      float64\n",
       "rating_3.5                      float64\n",
       "rating_4.0                      float64\n",
       "rating_4.5                      float64\n",
       "rating_5.0                      float64\n",
       "dtype: object"
      ]
     },
     "execution_count": 11,
     "metadata": {},
     "output_type": "execute_result"
    }
   ],
   "source": [
    "#Data Clean movie rating dataset\n",
    "rating_us_df.dtypes"
   ]
  },
  {
   "cell_type": "code",
   "execution_count": 15,
   "metadata": {},
   "outputs": [
    {
     "data": {
      "text/plain": [
       "8      1990-06-08\n",
       "27     1990-11-09\n",
       "44     1990-08-24\n",
       "47     1990-07-02\n",
       "54     1990-08-17\n",
       "          ...    \n",
       "5974   2017-04-12\n",
       "5986   2017-04-19\n",
       "5999   2017-05-30\n",
       "6010   2017-06-21\n",
       "6021   2017-07-11\n",
       "Name: release_date, Length: 386, dtype: datetime64[ns]"
      ]
     },
     "execution_count": 15,
     "metadata": {},
     "output_type": "execute_result"
    }
   ],
   "source": [
    "rating_us_df['release_date']"
   ]
  },
  {
   "cell_type": "code",
   "execution_count": 16,
   "metadata": {},
   "outputs": [
    {
     "name": "stderr",
     "output_type": "stream",
     "text": [
      "C:\\Users\\vijay\\Anaconda3\\envs\\PythonData\\lib\\site-packages\\ipykernel_launcher.py:2: SettingWithCopyWarning: \n",
      "A value is trying to be set on a copy of a slice from a DataFrame.\n",
      "Try using .loc[row_indexer,col_indexer] = value instead\n",
      "\n",
      "See the caveats in the documentation: https://pandas.pydata.org/pandas-docs/stable/user_guide/indexing.html#returning-a-view-versus-a-copy\n",
      "  \n"
     ]
    }
   ],
   "source": [
    "#Convert the release date to year\n",
    "rating_us_df['release_date'] = pd.DatetimeIndex(rating_us_df['release_date']).year"
   ]
  },
  {
   "cell_type": "code",
   "execution_count": 17,
   "metadata": {},
   "outputs": [
    {
     "data": {
      "text/plain": [
       "8       1990\n",
       "27      1990\n",
       "44      1990\n",
       "47      1990\n",
       "54      1990\n",
       "        ... \n",
       "5974    2017\n",
       "5986    2017\n",
       "5999    2017\n",
       "6010    2017\n",
       "6021    2017\n",
       "Name: release_date, Length: 386, dtype: int64"
      ]
     },
     "execution_count": 17,
     "metadata": {},
     "output_type": "execute_result"
    }
   ],
   "source": [
    "rating_us_df['release_date']"
   ]
  },
  {
   "cell_type": "code",
   "execution_count": 18,
   "metadata": {},
   "outputs": [
    {
     "data": {
      "text/plain": [
       "index                      int64\n",
       "imdb_id                   object\n",
       "kaggle_id                  int64\n",
       "title                     object\n",
       "original_title            object\n",
       "tagline                   object\n",
       "belongs_to_collection     object\n",
       "wikipedia_url             object\n",
       "imdb_link                 object\n",
       "runtime                  float64\n",
       "budget                   float64\n",
       "revenue                  float64\n",
       "release_date               int64\n",
       "popularity               float64\n",
       "vote_average             float64\n",
       "vote_count               float64\n",
       "genres                    object\n",
       "original_language         object\n",
       "overview                  object\n",
       "spoken_languages          object\n",
       "country                   object\n",
       "production_companies      object\n",
       "production_countries      object\n",
       "distributor               object\n",
       "producers                 object\n",
       "director                  object\n",
       "starring                  object\n",
       "cinematography            object\n",
       "editors                   object\n",
       "writers                   object\n",
       "composers                 object\n",
       "based_on                  object\n",
       "rating_0.5               float64\n",
       "rating_1.0               float64\n",
       "rating_1.5               float64\n",
       "rating_2.0               float64\n",
       "rating_2.5               float64\n",
       "rating_3.0               float64\n",
       "rating_3.5               float64\n",
       "rating_4.0               float64\n",
       "rating_4.5               float64\n",
       "rating_5.0               float64\n",
       "dtype: object"
      ]
     },
     "execution_count": 18,
     "metadata": {},
     "output_type": "execute_result"
    }
   ],
   "source": [
    "rating_us_df.dtypes"
   ]
  },
  {
   "cell_type": "code",
   "execution_count": null,
   "metadata": {},
   "outputs": [],
   "source": [
    "columns =[]"
   ]
  },
  {
   "cell_type": "code",
   "execution_count": null,
   "metadata": {},
   "outputs": [],
   "source": [
    "df = df.loc[:, columns].copy()"
   ]
  },
  {
   "cell_type": "code",
   "execution_count": null,
   "metadata": {},
   "outputs": [],
   "source": [
    "#Classification (RandomForestClassification)"
   ]
  },
  {
   "cell_type": "code",
   "execution_count": null,
   "metadata": {},
   "outputs": [],
   "source": [
    "# Naive Bayes Classifier Model for Movie Review Sentiment Analysis"
   ]
  }
 ],
 "metadata": {
  "kernelspec": {
   "display_name": "PythonData",
   "language": "python",
   "name": "pythondata"
  },
  "language_info": {
   "codemirror_mode": {
    "name": "ipython",
    "version": 3
   },
   "file_extension": ".py",
   "mimetype": "text/x-python",
   "name": "python",
   "nbconvert_exporter": "python",
   "pygments_lexer": "ipython3",
   "version": "3.6.10"
  }
 },
 "nbformat": 4,
 "nbformat_minor": 4
}
